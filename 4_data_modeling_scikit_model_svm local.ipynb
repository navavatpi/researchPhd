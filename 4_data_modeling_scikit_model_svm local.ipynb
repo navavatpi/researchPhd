{
 "cells": [
  {
   "cell_type": "markdown",
   "metadata": {
    "id": "riTfccSRae30"
   },
   "source": [
    "# 4. Data Modeling: non-artificial neural network models; SVM"
   ]
  },
  {
   "cell_type": "markdown",
   "metadata": {},
   "source": [
    "LOCAL version for implement scikit-learn ML models"
   ]
  },
  {
   "cell_type": "markdown",
   "metadata": {
    "id": "nxqLVbvJamze"
   },
   "source": [
    "## Environment Setup"
   ]
  },
  {
   "cell_type": "code",
   "execution_count": 1,
   "metadata": {
    "colab": {
     "base_uri": "https://localhost:8080/"
    },
    "executionInfo": {
     "elapsed": 1619,
     "status": "ok",
     "timestamp": 1634381122542,
     "user": {
      "displayName": "Navavat Pipatsart",
      "photoUrl": "https://lh3.googleusercontent.com/a/default-user=s64",
      "userId": "17950084887953265054"
     },
     "user_tz": -420
    },
    "id": "VI8UC2kAvyAP",
    "outputId": "e7171d0e-153c-470b-e322-2b159f22490a"
   },
   "outputs": [
    {
     "name": "stdout",
     "output_type": "stream",
     "text": [
      "\n",
      "\n",
      "necessary libraries has successfully imported\n"
     ]
    }
   ],
   "source": [
    "# libraries import\n",
    "import os # miscellaneous operating system interfaces\n",
    "import numpy as np # Array library for linear algebra\n",
    "import matplotlib.pyplot as plt # visualization library\n",
    "from sklearn.svm import SVC # SVM classifier\n",
    "from sklearn.ensemble import RandomForestClassifier # RFC classifier\n",
    "from sklearn.neighbors import KNeighborsClassifier # KNN classifier\n",
    "from sklearn.metrics import classification_report # evaluators classification report\n",
    "import scikitplot as skplt # scikit-learn and matplotlib integrated visualization library\n",
    "import joblib # I/O library for scikit-learn\n",
    "\n",
    "# system configuration\n",
    "os.environ[\"TF_CPP_MIN_LOG_LEVEL\"]=\"0\" # disable warning messages\n",
    "os.environ['AUTOGRAPH_VERBOSITY'] = '0' # set it to 0\n",
    "random_seed = 20 # random seed\n",
    "\n",
    "print('\\n')\n",
    "print('necessary libraries has successfully imported')"
   ]
  },
  {
   "cell_type": "markdown",
   "metadata": {
    "id": "n-Hrt5epgDiW"
   },
   "source": [
    "## Data Loading"
   ]
  },
  {
   "cell_type": "code",
   "execution_count": 2,
   "metadata": {
    "executionInfo": {
     "elapsed": 7,
     "status": "ok",
     "timestamp": 1634379415870,
     "user": {
      "displayName": "Navavat Pipatsart",
      "photoUrl": "https://lh3.googleusercontent.com/a/default-user=s64",
      "userId": "17950084887953265054"
     },
     "user_tz": -420
    },
    "id": "dX9qHI4qO6kE"
   },
   "outputs": [],
   "source": [
    "# define path to files\n",
    "defaultdir = '/Users/pnastra_castcle/navavat.pi@castcle.com - Google Drive/My Drive/all_about_phd_research/'"
   ]
  },
  {
   "cell_type": "code",
   "execution_count": 3,
   "metadata": {
    "colab": {
     "base_uri": "https://localhost:8080/"
    },
    "executionInfo": {
     "elapsed": 56553,
     "status": "ok",
     "timestamp": 1634379472417,
     "user": {
      "displayName": "Navavat Pipatsart",
      "photoUrl": "https://lh3.googleusercontent.com/a/default-user=s64",
      "userId": "17950084887953265054"
     },
     "user_tz": -420
    },
    "id": "nRW07lUT7yOO",
    "outputId": "d4ece4f0-113f-4e0c-aacf-40ee3d037a49"
   },
   "outputs": [
    {
     "name": "stdout",
     "output_type": "stream",
     "text": [
      "loading processed data\n",
      "\n",
      "\n",
      "load data done\n",
      "\n",
      "\n"
     ]
    }
   ],
   "source": [
    "print('loading processed data')\n",
    "print('\\n')\n",
    "\n",
    "# load input data from drive\n",
    "X_train = np.load(defaultdir + '/processed_data/X_train_sk.npy')\n",
    "X_test = np.load(defaultdir + '/processed_data/X_test_sk.npy')\n",
    "y_train = np.load(defaultdir + '/processed_data/y_train_sk.npy')\n",
    "y_test = np.load(defaultdir + '/processed_data/y_test_sk.npy')\n",
    "\n",
    "\n",
    "print('load data done')\n",
    "print('\\n')"
   ]
  },
  {
   "cell_type": "markdown",
   "metadata": {
    "id": "kBOCu2mae51B"
   },
   "source": [
    "## SVM model"
   ]
  },
  {
   "cell_type": "code",
   "execution_count": 4,
   "metadata": {
    "colab": {
     "base_uri": "https://localhost:8080/"
    },
    "executionInfo": {
     "elapsed": 36,
     "status": "ok",
     "timestamp": 1634379472418,
     "user": {
      "displayName": "Navavat Pipatsart",
      "photoUrl": "https://lh3.googleusercontent.com/a/default-user=s64",
      "userId": "17950084887953265054"
     },
     "user_tz": -420
    },
    "id": "pxuIN5fRzgkr",
    "outputId": "ee33e313-76d1-4b2e-9a58-1f479545edcf"
   },
   "outputs": [
    {
     "name": "stdout",
     "output_type": "stream",
     "text": [
      "SVM modeling is initializing\n",
      "\n",
      "\n"
     ]
    }
   ],
   "source": [
    "# define model name\n",
    "modelName = 'SVM'\n",
    "\n",
    "print(modelName, 'modeling is initializing')\n",
    "print('\\n')"
   ]
  },
  {
   "cell_type": "markdown",
   "metadata": {
    "id": "ncZK65QNPgom"
   },
   "source": [
    "## Data Modeling"
   ]
  },
  {
   "cell_type": "code",
   "execution_count": 5,
   "metadata": {
    "executionInfo": {
     "elapsed": 20,
     "status": "ok",
     "timestamp": 1634379472419,
     "user": {
      "displayName": "Navavat Pipatsart",
      "photoUrl": "https://lh3.googleusercontent.com/a/default-user=s64",
      "userId": "17950084887953265054"
     },
     "user_tz": -420
    },
    "id": "dYf3czfeffq7"
   },
   "outputs": [],
   "source": [
    "# define function to create and training SVM model\n",
    "def svmModeling(X_train, y_train,\n",
    "                num_classes, \n",
    "                kernel='rbf', \n",
    "                gamma='scale', \n",
    "                class_weight='balanced', \n",
    "                probability=True, \n",
    "                verbose=1, \n",
    "                max_iter=-1):\n",
    "  \n",
    "  svc = SVC(C=num_classes, \n",
    "            kernel=kernel, \n",
    "            gamma=gamma, \n",
    "            class_weight=class_weight, \n",
    "            probability=probability, \n",
    "            verbose=verbose, \n",
    "            max_iter=max_iter)\n",
    "  \n",
    "  print(modelName, 'model is successfully constructed')\n",
    "  print('training', modelName, 'model')\n",
    "\n",
    "  # perform training\n",
    "  svmModel = svc.fit(X= X_train, \n",
    "                     y= y_train)\n",
    "\n",
    "  print('training', modelName, 'model has done')\n",
    "\n",
    "  return svmModel"
   ]
  },
  {
   "cell_type": "markdown",
   "metadata": {},
   "source": [
    "## Model Training"
   ]
  },
  {
   "cell_type": "code",
   "execution_count": 6,
   "metadata": {
    "colab": {
     "base_uri": "https://localhost:8080/"
    },
    "id": "CFcQT0DEg9ki",
    "outputId": "f6d182c0-19d0-4c59-9a00-f8dcf5e8cbbb"
   },
   "outputs": [
    {
     "name": "stdout",
     "output_type": "stream",
     "text": [
      "SVM model is successfully constructed\n",
      "training SVM model\n",
      "[LibSVM].*.*\n",
      "optimization finished, #iter = 16\n",
      "obj = -13.045491, rho = 0.091558\n",
      "nSV = 8, nBSV = 3\n",
      "Total nSV = 8\n",
      "*.*\n",
      "optimization finished, #iter = 11\n",
      "obj = -14.321857, rho = 0.051240\n",
      "nSV = 8, nBSV = 4\n",
      "Total nSV = 8\n",
      "*.*\n",
      "optimization finished, #iter = 10\n",
      "obj = -14.805652, rho = 0.057026\n",
      "nSV = 8, nBSV = 5\n",
      "Total nSV = 8\n",
      "*.*\n",
      "optimization finished, #iter = 10\n",
      "obj = -11.996631, rho = 0.073911\n",
      "nSV = 8, nBSV = 4\n",
      "Total nSV = 8\n",
      ".*.*\n",
      "optimization finished, #iter = 16\n",
      "obj = -13.158885, rho = 0.123035\n",
      "nSV = 8, nBSV = 2\n",
      "Total nSV = 8\n",
      ".*\n",
      "optimization finished, #iter = 12\n",
      "obj = -17.364214, rho = -0.089501\n",
      "nSV = 10, nBSV = 6\n",
      ".*.*\n",
      "optimization finished, #iter = 24\n",
      "obj = -8.743854, rho = 0.255504\n",
      "nSV = 10, nBSV = 2\n",
      "Total nSV = 10\n",
      ".*\n",
      "optimization finished, #iter = 16\n",
      "obj = -9.571314, rho = 0.208954\n",
      "nSV = 10, nBSV = 2\n",
      "Total nSV = 10\n",
      ".*\n",
      "optimization finished, #iter = 16\n",
      "obj = -9.853827, rho = 0.241285\n",
      "nSV = 9, nBSV = 1\n",
      "Total nSV = 9\n",
      ".*\n",
      "optimization finished, #iter = 18\n",
      "obj = -10.104074, rho = 0.192925\n",
      "nSV = 10, nBSV = 2\n",
      "Total nSV = 10\n",
      ".*.*\n",
      "optimization finished, #iter = 18\n",
      "obj = -8.258872, rho = 0.147170\n",
      "nSV = 9, nBSV = 1\n",
      "Total nSV = 9\n",
      ".*\n",
      "optimization finished, #iter = 22\n",
      "obj = -10.826689, rho = -0.259500\n",
      "nSV = 12, nBSV = 3\n",
      "*\n",
      "optimization finished, #iter = 9\n",
      "obj = -18.693670, rho = -0.029627\n",
      "nSV = 10, nBSV = 8\n",
      "Total nSV = 10\n",
      ".*\n",
      "optimization finished, #iter = 13\n",
      "obj = -19.077544, rho = -0.030290\n",
      "nSV = 10, nBSV = 6\n",
      "Total nSV = 10\n",
      ".*\n",
      "optimization finished, #iter = 14\n",
      "obj = -14.923638, rho = 0.125287\n",
      "nSV = 9, nBSV = 3\n",
      "Total nSV = 9\n",
      ".*\n",
      "optimization finished, #iter = 17\n",
      "obj = -15.913469, rho = 0.013290\n",
      "nSV = 10, nBSV = 4\n",
      "Total nSV = 10\n",
      ".*\n",
      "optimization finished, #iter = 13\n",
      "obj = -14.660517, rho = 0.213801\n",
      "nSV = 9, nBSV = 4\n",
      "Total nSV = 9\n",
      ".*\n",
      "optimization finished, #iter = 20\n",
      "obj = -20.411046, rho = -0.158921\n",
      "nSV = 12, nBSV = 6\n",
      "Total nSV = 17\n",
      "training SVM model has done\n"
     ]
    }
   ],
   "source": [
    "svmModel = svmModeling(X_train= X_train, y_train= y_train, num_classes= 3)"
   ]
  },
  {
   "cell_type": "markdown",
   "metadata": {
    "id": "Bs5tGTk8xJ18"
   },
   "source": [
    "## Model Prediction"
   ]
  },
  {
   "cell_type": "code",
   "execution_count": 23,
   "metadata": {
    "id": "qL_E_urkZgbM"
   },
   "outputs": [
    {
     "name": "stdout",
     "output_type": "stream",
     "text": [
      "SVM model making prediction\n",
      "\n",
      "\n",
      "\n",
      "\n",
      "SVM model making prediction has done\n",
      "\n",
      "\n"
     ]
    }
   ],
   "source": [
    "# making predictions\n",
    "print(modelName, 'model making prediction')\n",
    "print('\\n')\n",
    "\n",
    "y_pred = svmModel.predict(X_test)\n",
    "y_probas = svmModel.predict_proba(X_test)\n",
    "\n",
    "print('\\n')\n",
    "print(modelName, 'model making prediction has done')\n",
    "print('\\n')"
   ]
  },
  {
   "cell_type": "markdown",
   "metadata": {
    "id": "QMjdzbfAzCwp"
   },
   "source": [
    "# Model Evaluation"
   ]
  },
  {
   "cell_type": "code",
   "execution_count": 9,
   "metadata": {
    "id": "ogAZtVWI19_-"
   },
   "outputs": [
    {
     "name": "stdout",
     "output_type": "stream",
     "text": [
      "SVM model evaluation is now processing\n",
      "\n",
      "\n"
     ]
    }
   ],
   "source": [
    "print(modelName, 'model evaluation is now processing')\n",
    "print('\\n')"
   ]
  },
  {
   "cell_type": "markdown",
   "metadata": {
    "id": "2fPO8e-tWG4o"
   },
   "source": [
    "## Confusion matrix and AUC-ROC curve"
   ]
  },
  {
   "cell_type": "code",
   "execution_count": 13,
   "metadata": {
    "id": "Eyyo9x0tevO8"
   },
   "outputs": [],
   "source": [
    "# def plot confusion matrix function\n",
    "def plotConfusionMatrix(y_test=y_test, \n",
    "                        y_pred=y_pred, \n",
    "                        cmap=plt.cm.Reds, \n",
    "                        title='Confusion Matrix of {} model'.format(modelName)):\n",
    "\n",
    "  # set font sizes\n",
    "  SMALL_SIZE = 12\n",
    "  MEDIUM_SIZE = 15\n",
    "  BIGGER_SIZE = 20\n",
    "\n",
    "  skplt.metrics.plot_confusion_matrix(y_true=y_test, \n",
    "                                      y_pred=y_pred, \n",
    "                                      title=title, \n",
    "                                      normalize='true', \n",
    "                                      figsize=(9,9), \n",
    "                                      cmap=cmap, \n",
    "                                      title_fontsize= BIGGER_SIZE, \n",
    "                                      text_fontsize= BIGGER_SIZE\n",
    "                                      )\n",
    "\n",
    "  # save figure\n",
    "  plt.savefig(defaultdir + '/processed_data/' + title + '.png')"
   ]
  },
  {
   "cell_type": "code",
   "execution_count": 17,
   "metadata": {
    "id": "5G7hiTmPfagm"
   },
   "outputs": [
    {
     "name": "stdout",
     "output_type": "stream",
     "text": [
      "confusion matrix plot\n",
      "\n",
      "\n"
     ]
    },
    {
     "data": {
      "image/png": "[encoded data removed]",
      "text/plain": [
       "<Figure size 648x648 with 2 Axes>"
      ]
     },
     "metadata": {
      "needs_background": "light"
     },
     "output_type": "display_data"
    }
   ],
   "source": [
    "print('confusion matrix plot')\n",
    "print('\\n')\n",
    "\n",
    "# perform plot confusion matrix function\n",
    "title = 'Confusion Matrix of {} model'.format(modelName)\n",
    "plot = plotConfusionMatrix(y_test=y_test, y_pred=y_pred, cmap=plt.cm.YlOrBr, title=title)"
   ]
  },
  {
   "cell_type": "code",
   "execution_count": 25,
   "metadata": {
    "id": "eRnwzOPlipIj"
   },
   "outputs": [],
   "source": [
    "# def plot ROC curve function\n",
    "def plotROC(y_test=y_test, y_pred=y_pred, cmap=plt.cm.Reds, title='ROC curve of {} model'.format(modelName)):\n",
    "\n",
    "  # set font sizes\n",
    "  SMALL_SIZE = 12\n",
    "  MEDIUM_SIZE = 15\n",
    "  BIGGER_SIZE = 20\n",
    "\n",
    "  skplt.metrics.plot_roc(y_true=y_test, \n",
    "                         y_probas=y_probas, \n",
    "                         title=title, \n",
    "                         plot_micro=True, \n",
    "                         plot_macro=True, \n",
    "                         figsize=(12,6), \n",
    "                         cmap=cmap, \n",
    "                         title_fontsize= BIGGER_SIZE, \n",
    "                         text_fontsize= MEDIUM_SIZE\n",
    "                         )\n",
    "\n",
    "  # save figure\n",
    "  plt.savefig(defaultdir + '/processed_data/' + title + '.png')"
   ]
  },
  {
   "cell_type": "code",
   "execution_count": null,
   "metadata": {
    "id": "Ts3c6Z1LjhzN"
   },
   "outputs": [],
   "source": [
    "print('AUC-ROC curve plot')\n",
    "print('\\n')\n",
    "\n",
    "# perform plot AUC-ROC curve function\n",
    "title = 'AUC-ROC curve of {} model'.format(modelName)\n",
    "plot = plotROC(y_test=y_test, y_pred=y_pred, cmap=plt.cm.YlOrBr, title=title)"
   ]
  },
  {
   "cell_type": "markdown",
   "metadata": {
    "id": "lW2pUrx7nisj"
   },
   "source": [
    "## Print Classification Report"
   ]
  },
  {
   "cell_type": "code",
   "execution_count": 28,
   "metadata": {
    "id": "dceTyX8xmY2m"
   },
   "outputs": [
    {
     "name": "stdout",
     "output_type": "stream",
     "text": [
      "classification report of SVM model\n",
      "\n",
      "\n",
      "              precision    recall  f1-score   support\n",
      "\n",
      "     class 0       0.00      0.00      0.00         3\n",
      "     class 1       0.00      0.00      0.00         1\n",
      "     class 2       0.50      1.00      0.67         2\n",
      "\n",
      "    accuracy                           0.33         6\n",
      "   macro avg       0.17      0.33      0.22         6\n",
      "weighted avg       0.17      0.33      0.22         6\n",
      "\n",
      "\n",
      "\n"
     ]
    },
    {
     "name": "stderr",
     "output_type": "stream",
     "text": [
      "/Users/pnastra_castcle/miniforge3/envs/tfm1/lib/python3.9/site-packages/sklearn/metrics/_classification.py:1308: UndefinedMetricWarning: Precision and F-score are ill-defined and being set to 0.0 in labels with no predicted samples. Use `zero_division` parameter to control this behavior.\n",
      "  _warn_prf(average, modifier, msg_start, len(result))\n",
      "/Users/pnastra_castcle/miniforge3/envs/tfm1/lib/python3.9/site-packages/sklearn/metrics/_classification.py:1308: UndefinedMetricWarning: Precision and F-score are ill-defined and being set to 0.0 in labels with no predicted samples. Use `zero_division` parameter to control this behavior.\n",
      "  _warn_prf(average, modifier, msg_start, len(result))\n",
      "/Users/pnastra_castcle/miniforge3/envs/tfm1/lib/python3.9/site-packages/sklearn/metrics/_classification.py:1308: UndefinedMetricWarning: Precision and F-score are ill-defined and being set to 0.0 in labels with no predicted samples. Use `zero_division` parameter to control this behavior.\n",
      "  _warn_prf(average, modifier, msg_start, len(result))\n"
     ]
    }
   ],
   "source": [
    "# classification report\n",
    "num_classes = 3\n",
    "class_list = ['class '+ str(y_class) for y_class in range(num_classes)]\n",
    "\n",
    "print('classification report of {} model'.format(modelName))\n",
    "print('\\n')\n",
    "print(classification_report(y_test, \n",
    "                            y_pred, \n",
    "                            target_names= class_list))\n",
    "\n",
    "print('\\n')"
   ]
  },
  {
   "cell_type": "markdown",
   "metadata": {
    "id": "rDVHXh5FqW_L"
   },
   "source": [
    "## Saving model"
   ]
  },
  {
   "cell_type": "code",
   "execution_count": 40,
   "metadata": {},
   "outputs": [],
   "source": [
    "# define saving function\n",
    "def save_model (model, model_name):\n",
    "    \n",
    "    filename = defaultdir + '/processed_data/' + model_name + '.joblib'\n",
    "        \n",
    "    joblib.dump(model, filename)\n",
    "\n",
    "    print(\"Saved {} to drive\".format(model_name))"
   ]
  },
  {
   "cell_type": "code",
   "execution_count": 41,
   "metadata": {
    "id": "2iOez2xFqt6x"
   },
   "outputs": [
    {
     "name": "stdout",
     "output_type": "stream",
     "text": [
      "Saved svmModel to drive\n"
     ]
    }
   ],
   "source": [
    "# perform saving\n",
    "save_model(model=svmModel, model_name= modelName.lower() + 'Model')"
   ]
  },
  {
   "cell_type": "markdown",
   "metadata": {
    "id": "sFka7ubuvimJ"
   },
   "source": [
    "## Load the saved model"
   ]
  },
  {
   "cell_type": "code",
   "execution_count": 49,
   "metadata": {
    "id": "_gAU2tKPq7nY"
   },
   "outputs": [],
   "source": [
    "# define loading function\n",
    "def load_model (model_name):\n",
    "\n",
    "    filename = defaultdir + '/processed_data/' + model_name + '.joblib'\n",
    "    \n",
    "    loaded_model = joblib.load(filename)\n",
    "    \n",
    "    return loaded_model"
   ]
  },
  {
   "cell_type": "code",
   "execution_count": 50,
   "metadata": {
    "id": "otktQAMVs2Ku"
   },
   "outputs": [],
   "source": [
    "# perform loading\n",
    "cnnModel = load_model(model_name= modelName.lower() + 'Model')"
   ]
  },
  {
   "cell_type": "markdown",
   "metadata": {
    "id": "8LlLXm-CvmUV"
   },
   "source": [
    "## Perform testing loaded model"
   ]
  },
  {
   "cell_type": "code",
   "execution_count": 55,
   "metadata": {
    "id": "u9xXcVgcvGV6"
   },
   "outputs": [
    {
     "data": {
      "text/plain": [
       "array([1, 1, 2, 2, 2, 2])"
      ]
     },
     "execution_count": 55,
     "metadata": {},
     "output_type": "execute_result"
    }
   ],
   "source": [
    "# making prediction of loaded model\n",
    "svmModel.predict(X_test)"
   ]
  },
  {
   "cell_type": "code",
   "execution_count": 56,
   "metadata": {
    "id": "I5zFBxl3wMnv"
   },
   "outputs": [
    {
     "name": "stdout",
     "output_type": "stream",
     "text": [
      "\n",
      "\n",
      "SVM modeling process is completed\n"
     ]
    }
   ],
   "source": [
    "print('\\n')\n",
    "print(modelName, 'modeling process is completed')"
   ]
  },
  {
   "cell_type": "code",
   "execution_count": null,
   "metadata": {
    "id": "iyyRSQgG41iu"
   },
   "outputs": [],
   "source": []
  },
  {
   "cell_type": "markdown",
   "metadata": {
    "id": "iXOAQkOywI1Z"
   },
   "source": [
    "# Finish Data life cycle"
   ]
  }
 ],
 "metadata": {
  "accelerator": "GPU",
  "colab": {
   "authorship_tag": "ABX9TyMprgomm6hIgowyeoGcWlY7",
   "collapsed_sections": [],
   "name": "4_data_modeling_scikit_models.ipynb",
   "provenance": [
    {
     "file_id": "15_yVWV0w0sPisZ6YJeA5-PVThsePq_CT",
     "timestamp": 1634374252650
    }
   ]
  },
  "kernelspec": {
   "display_name": "Python 3 (ipykernel)",
   "language": "python",
   "name": "python3"
  },
  "language_info": {
   "codemirror_mode": {
    "name": "ipython",
    "version": 3
   },
   "file_extension": ".py",
   "mimetype": "text/x-python",
   "name": "python",
   "nbconvert_exporter": "python",
   "pygments_lexer": "ipython3",
   "version": "3.9.7"
  }
 },
 "nbformat": 4,
 "nbformat_minor": 4
}
