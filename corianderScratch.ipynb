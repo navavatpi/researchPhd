{
  "nbformat": 4,
  "nbformat_minor": 0,
  "metadata": {
    "colab": {
      "name": "corianderScratch.ipynb",
      "provenance": [],
      "collapsed_sections": [],
      "authorship_tag": "ABX9TyPI8MqbklS0K5vssilQM/GT",
      "include_colab_link": true
    },
    "kernelspec": {
      "name": "python3",
      "display_name": "Python 3"
    },
    "language_info": {
      "name": "python"
    },
    "accelerator": "TPU"
  },
  "cells": [
    {
      "cell_type": "markdown",
      "metadata": {
        "id": "view-in-github",
        "colab_type": "text"
      },
      "source": [
        "<a href=\"https://colab.research.google.com/github/navavatpi/researchPhd/blob/main/corianderScratch.ipynb\" target=\"_parent\"><img src=\"https://colab.research.google.com/assets/colab-badge.svg\" alt=\"Open In Colab\"/></a>"
      ]
    },
    {
      "cell_type": "code",
      "metadata": {
        "id": "naTWf2Rdsgb9"
      },
      "source": [
        "# # https://pypi.python.org/pypi/pydot\n",
        "# !apt-get -qq install -y graphviz && pip install pydot\n",
        "# import pydot"
      ],
      "execution_count": null,
      "outputs": []
    },
    {
      "cell_type": "code",
      "metadata": {
        "colab": {
          "base_uri": "https://localhost:8080/"
        },
        "id": "lQME0BwnuXWU",
        "outputId": "f265b8f3-e335-46b7-c401-b784b4a1a71a"
      },
      "source": [
        "# Enabling and testing the TPU\n",
        "%tensorflow_version 2.x\n",
        "import tensorflow as tf\n",
        "print(\"Tensorflow version \" + tf.__version__)\n",
        "\n",
        "try:\n",
        "  tpu = tf.distribute.cluster_resolver.TPUClusterResolver()  # TPU detection\n",
        "  print('Running on TPU ', tpu.cluster_spec().as_dict()['worker'])\n",
        "except ValueError:\n",
        "  raise BaseException('ERROR: Not connected to a TPU runtime; please see the previous cell in this notebook for instructions!')\n",
        "\n",
        "tf.config.experimental_connect_to_cluster(tpu)\n",
        "tf.tpu.experimental.initialize_tpu_system(tpu)\n",
        "tpu_strategy = tf.distribute.experimental.TPUStrategy(tpu)"
      ],
      "execution_count": null,
      "outputs": [
        {
          "output_type": "stream",
          "name": "stdout",
          "text": [
            "Tensorflow version 2.6.0\n",
            "Running on TPU  ['10.91.43.218:8470']\n",
            "INFO:tensorflow:Clearing out eager caches\n"
          ]
        },
        {
          "output_type": "stream",
          "name": "stderr",
          "text": [
            "INFO:tensorflow:Clearing out eager caches\n"
          ]
        },
        {
          "output_type": "stream",
          "name": "stdout",
          "text": [
            "INFO:tensorflow:Initializing the TPU system: grpc://10.91.43.218:8470\n"
          ]
        },
        {
          "output_type": "stream",
          "name": "stderr",
          "text": [
            "INFO:tensorflow:Initializing the TPU system: grpc://10.91.43.218:8470\n"
          ]
        },
        {
          "output_type": "stream",
          "name": "stdout",
          "text": [
            "INFO:tensorflow:Finished initializing TPU system.\n"
          ]
        },
        {
          "output_type": "stream",
          "name": "stderr",
          "text": [
            "INFO:tensorflow:Finished initializing TPU system.\n",
            "WARNING:absl:`tf.distribute.experimental.TPUStrategy` is deprecated, please use  the non experimental symbol `tf.distribute.TPUStrategy` instead.\n"
          ]
        },
        {
          "output_type": "stream",
          "name": "stdout",
          "text": [
            "INFO:tensorflow:Found TPU system:\n"
          ]
        },
        {
          "output_type": "stream",
          "name": "stderr",
          "text": [
            "INFO:tensorflow:Found TPU system:\n"
          ]
        },
        {
          "output_type": "stream",
          "name": "stdout",
          "text": [
            "INFO:tensorflow:*** Num TPU Cores: 8\n"
          ]
        },
        {
          "output_type": "stream",
          "name": "stderr",
          "text": [
            "INFO:tensorflow:*** Num TPU Cores: 8\n"
          ]
        },
        {
          "output_type": "stream",
          "name": "stdout",
          "text": [
            "INFO:tensorflow:*** Num TPU Workers: 1\n"
          ]
        },
        {
          "output_type": "stream",
          "name": "stderr",
          "text": [
            "INFO:tensorflow:*** Num TPU Workers: 1\n"
          ]
        },
        {
          "output_type": "stream",
          "name": "stdout",
          "text": [
            "INFO:tensorflow:*** Num TPU Cores Per Worker: 8\n"
          ]
        },
        {
          "output_type": "stream",
          "name": "stderr",
          "text": [
            "INFO:tensorflow:*** Num TPU Cores Per Worker: 8\n"
          ]
        },
        {
          "output_type": "stream",
          "name": "stdout",
          "text": [
            "INFO:tensorflow:*** Available Device: _DeviceAttributes(/job:localhost/replica:0/task:0/device:CPU:0, CPU, 0, 0)\n"
          ]
        },
        {
          "output_type": "stream",
          "name": "stderr",
          "text": [
            "INFO:tensorflow:*** Available Device: _DeviceAttributes(/job:localhost/replica:0/task:0/device:CPU:0, CPU, 0, 0)\n"
          ]
        },
        {
          "output_type": "stream",
          "name": "stdout",
          "text": [
            "INFO:tensorflow:*** Available Device: _DeviceAttributes(/job:worker/replica:0/task:0/device:CPU:0, CPU, 0, 0)\n"
          ]
        },
        {
          "output_type": "stream",
          "name": "stderr",
          "text": [
            "INFO:tensorflow:*** Available Device: _DeviceAttributes(/job:worker/replica:0/task:0/device:CPU:0, CPU, 0, 0)\n"
          ]
        },
        {
          "output_type": "stream",
          "name": "stdout",
          "text": [
            "INFO:tensorflow:*** Available Device: _DeviceAttributes(/job:worker/replica:0/task:0/device:TPU:0, TPU, 0, 0)\n"
          ]
        },
        {
          "output_type": "stream",
          "name": "stderr",
          "text": [
            "INFO:tensorflow:*** Available Device: _DeviceAttributes(/job:worker/replica:0/task:0/device:TPU:0, TPU, 0, 0)\n"
          ]
        },
        {
          "output_type": "stream",
          "name": "stdout",
          "text": [
            "INFO:tensorflow:*** Available Device: _DeviceAttributes(/job:worker/replica:0/task:0/device:TPU:1, TPU, 0, 0)\n"
          ]
        },
        {
          "output_type": "stream",
          "name": "stderr",
          "text": [
            "INFO:tensorflow:*** Available Device: _DeviceAttributes(/job:worker/replica:0/task:0/device:TPU:1, TPU, 0, 0)\n"
          ]
        },
        {
          "output_type": "stream",
          "name": "stdout",
          "text": [
            "INFO:tensorflow:*** Available Device: _DeviceAttributes(/job:worker/replica:0/task:0/device:TPU:2, TPU, 0, 0)\n"
          ]
        },
        {
          "output_type": "stream",
          "name": "stderr",
          "text": [
            "INFO:tensorflow:*** Available Device: _DeviceAttributes(/job:worker/replica:0/task:0/device:TPU:2, TPU, 0, 0)\n"
          ]
        },
        {
          "output_type": "stream",
          "name": "stdout",
          "text": [
            "INFO:tensorflow:*** Available Device: _DeviceAttributes(/job:worker/replica:0/task:0/device:TPU:3, TPU, 0, 0)\n"
          ]
        },
        {
          "output_type": "stream",
          "name": "stderr",
          "text": [
            "INFO:tensorflow:*** Available Device: _DeviceAttributes(/job:worker/replica:0/task:0/device:TPU:3, TPU, 0, 0)\n"
          ]
        },
        {
          "output_type": "stream",
          "name": "stdout",
          "text": [
            "INFO:tensorflow:*** Available Device: _DeviceAttributes(/job:worker/replica:0/task:0/device:TPU:4, TPU, 0, 0)\n"
          ]
        },
        {
          "output_type": "stream",
          "name": "stderr",
          "text": [
            "INFO:tensorflow:*** Available Device: _DeviceAttributes(/job:worker/replica:0/task:0/device:TPU:4, TPU, 0, 0)\n"
          ]
        },
        {
          "output_type": "stream",
          "name": "stdout",
          "text": [
            "INFO:tensorflow:*** Available Device: _DeviceAttributes(/job:worker/replica:0/task:0/device:TPU:5, TPU, 0, 0)\n"
          ]
        },
        {
          "output_type": "stream",
          "name": "stderr",
          "text": [
            "INFO:tensorflow:*** Available Device: _DeviceAttributes(/job:worker/replica:0/task:0/device:TPU:5, TPU, 0, 0)\n"
          ]
        },
        {
          "output_type": "stream",
          "name": "stdout",
          "text": [
            "INFO:tensorflow:*** Available Device: _DeviceAttributes(/job:worker/replica:0/task:0/device:TPU:6, TPU, 0, 0)\n"
          ]
        },
        {
          "output_type": "stream",
          "name": "stderr",
          "text": [
            "INFO:tensorflow:*** Available Device: _DeviceAttributes(/job:worker/replica:0/task:0/device:TPU:6, TPU, 0, 0)\n"
          ]
        },
        {
          "output_type": "stream",
          "name": "stdout",
          "text": [
            "INFO:tensorflow:*** Available Device: _DeviceAttributes(/job:worker/replica:0/task:0/device:TPU:7, TPU, 0, 0)\n"
          ]
        },
        {
          "output_type": "stream",
          "name": "stderr",
          "text": [
            "INFO:tensorflow:*** Available Device: _DeviceAttributes(/job:worker/replica:0/task:0/device:TPU:7, TPU, 0, 0)\n"
          ]
        },
        {
          "output_type": "stream",
          "name": "stdout",
          "text": [
            "INFO:tensorflow:*** Available Device: _DeviceAttributes(/job:worker/replica:0/task:0/device:TPU_SYSTEM:0, TPU_SYSTEM, 0, 0)\n"
          ]
        },
        {
          "output_type": "stream",
          "name": "stderr",
          "text": [
            "INFO:tensorflow:*** Available Device: _DeviceAttributes(/job:worker/replica:0/task:0/device:TPU_SYSTEM:0, TPU_SYSTEM, 0, 0)\n"
          ]
        },
        {
          "output_type": "stream",
          "name": "stdout",
          "text": [
            "INFO:tensorflow:*** Available Device: _DeviceAttributes(/job:worker/replica:0/task:0/device:XLA_CPU:0, XLA_CPU, 0, 0)\n"
          ]
        },
        {
          "output_type": "stream",
          "name": "stderr",
          "text": [
            "INFO:tensorflow:*** Available Device: _DeviceAttributes(/job:worker/replica:0/task:0/device:XLA_CPU:0, XLA_CPU, 0, 0)\n"
          ]
        }
      ]
    },
    {
      "cell_type": "code",
      "metadata": {
        "id": "VI8UC2kAvyAP"
      },
      "source": [
        "import os\n",
        "import re\n",
        "import numpy as np\n",
        "\n",
        "from sklearn.model_selection import train_test_split,GridSearchCV # I/O separator\n",
        "from sklearn.preprocessing import StandardScaler # data preparation\n",
        "from sklearn.preprocessing import MinMaxScaler\n",
        "from tensorflow.keras.utils import to_categorical\n",
        "\n",
        "random_seed = 20 # random seed"
      ],
      "execution_count": null,
      "outputs": []
    },
    {
      "cell_type": "code",
      "metadata": {
        "colab": {
          "base_uri": "https://localhost:8080/"
        },
        "id": "r_2nnZRlujmA",
        "outputId": "89ddb6ff-c987-46e6-a3eb-1f48843100c2"
      },
      "source": [
        "from google.colab import drive\n",
        "drive.mount('/content/drive')"
      ],
      "execution_count": null,
      "outputs": [
        {
          "output_type": "stream",
          "name": "stdout",
          "text": [
            "Drive already mounted at /content/drive; to attempt to forcibly remount, call drive.mount(\"/content/drive\", force_remount=True).\n"
          ]
        }
      ]
    },
    {
      "cell_type": "code",
      "metadata": {
        "colab": {
          "base_uri": "https://localhost:8080/"
        },
        "id": "IZaZM-_Qv0kr",
        "outputId": "bee1e5cd-25b7-4421-e268-d93a23de6035"
      },
      "source": [
        "with open('/content/drive/My Drive/foo.txt', 'w') as f:\n",
        "  f.write('Hello Google Drive!')\n",
        "!cat /content/drive/My\\ Drive/foo.txt"
      ],
      "execution_count": null,
      "outputs": [
        {
          "output_type": "stream",
          "name": "stdout",
          "text": [
            "Hello Google Drive!"
          ]
        }
      ]
    },
    {
      "cell_type": "code",
      "metadata": {
        "colab": {
          "base_uri": "https://localhost:8080/"
        },
        "id": "XTkcZk5ryhEh",
        "outputId": "d83425a8-d206-4875-e7f7-a68aca5cb499"
      },
      "source": [
        "!ls /content/drive/My\\ Drive/all_about_phd/phd_data/sample_data"
      ],
      "execution_count": null,
      "outputs": [
        {
          "output_type": "stream",
          "name": "stdout",
          "text": [
            "corriander_sample01_0001_emptyname\t\t    corriander_sample_2_0009\n",
            "corriander_sample01_defect_emptyname_0001\t    corriander_sample_2_0010\n",
            "corriander_sample01__emptyname_0001\t\t    corriander_sample_3_0001\n",
            "corriander_sample01_emptyname_0002\t\t    corriander_sample_3_0002\n",
            "corriander_sample01__emptyname_2021-02-18_06-49-42  corriander_sample_3_0003\n",
            "corriander_sample01__emptyname_2021-02-18_07-17-28  corriander_sample_3_0005\n",
            "corriander_sample01__emptyname_2021-02-18_07-30-45  corriander_sample_3_0006\n",
            "corriander_sample01__emptyname_2021-02-18_08-13-22  corriander_sample_3_0007\n",
            "corriander_sample_2_0001\t\t\t    corriander_sample_3_0008\n",
            "corriander_sample_2_0006\t\t\t    corriander_sample_3_0009\n",
            "corriander_sample_2_0007\t\t\t    corriander_sample_3_0010\n",
            "corriander_sample_2_0008\n"
          ]
        }
      ]
    },
    {
      "cell_type": "code",
      "metadata": {
        "id": "NxSgzkd0v9cI"
      },
      "source": [
        ""
      ],
      "execution_count": null,
      "outputs": []
    },
    {
      "cell_type": "code",
      "metadata": {
        "colab": {
          "base_uri": "https://localhost:8080/"
        },
        "id": "MEFqxeafwE9J",
        "outputId": "b0a3e9f9-b1a8-4914-b626-c1c5b3cf6338"
      },
      "source": [
        "# set path to files\n",
        "defaultdir = r'/content/drive/My Drive/all_about_phd/phd_data/'\n",
        "\n",
        "## full dataset\n",
        "# rootdir = defaultdir + 'data_20210218'\n",
        "\n",
        "## test dataset\n",
        "rootdir = defaultdir + 'sample_data'\n",
        "\n",
        "## check\n",
        "print(rootdir)"
      ],
      "execution_count": null,
      "outputs": [
        {
          "output_type": "stream",
          "name": "stdout",
          "text": [
            "/content/drive/My Drive/all_about_phd/phd_data/sample_data\n"
          ]
        }
      ]
    },
    {
      "cell_type": "code",
      "metadata": {
        "id": "Lb8Gqv8r8M0Q"
      },
      "source": [
        "# define dataset & metadata as label function\n",
        "def read_data_from_files(path=rootdir):\n",
        "  ## assign dataset & metadata\n",
        "  X_raw = []\n",
        "  y_slug= []\n",
        "\n",
        "  ## iterate through directory\n",
        "  for subdir, dirs, files in os.walk(rootdir):\n",
        "      for file in files:\n",
        "        # filter only for raw file\n",
        "        if file.endswith('.raw'):\n",
        "            # assign data -> dataset \n",
        "            ## by fixing dimension as follows HSI e.g. \n",
        "            ### X = length (collection time dependent),\n",
        "            ### Y = spectral domain (fixed at 224, all spectra),\n",
        "            ### Z = width (fixed at 640)\n",
        "            ### then swap axes between width (Z) vs. spectral (Y)\n",
        "            X_raw.append(np.fromfile(os.path.join(subdir, file), dtype='uint16').reshape(-1,224,640).swapaxes(1,2))\n",
        "            \n",
        "            # assign label -> cut some unneceasary\n",
        "            y_slug.append(re.search('(\\d+.+\\d+)', file).group(0))\n",
        "\n",
        "  # extract label; y <- data_slug using RegEx\n",
        "  y = np.stack([(int(re.findall('([\\d{1}])(?=_)', y_slug[index], flags=0)[0])) for index, _ in enumerate(y_slug)])\n",
        "\n",
        "  # different class number from label \n",
        "  y = to_categorical(y - 1, num_classes=len(list(set(y))))\n",
        "\n",
        "  del y_slug\n",
        "\n",
        "  # output type = list (x), array (y)\n",
        "  return X_raw, y"
      ],
      "execution_count": null,
      "outputs": []
    },
    {
      "cell_type": "code",
      "metadata": {
        "id": "3VsGPeSz9PhK"
      },
      "source": [
        "X_raw, y = read_data_from_files()"
      ],
      "execution_count": null,
      "outputs": []
    },
    {
      "cell_type": "code",
      "metadata": {
        "id": "-b_dVEI5Bgn9"
      },
      "source": [
        ""
      ],
      "execution_count": null,
      "outputs": []
    },
    {
      "cell_type": "code",
      "metadata": {
        "colab": {
          "base_uri": "https://localhost:8080/"
        },
        "id": "c9PJZl0N-Xu_",
        "outputId": "0f23167e-41c1-47c1-adcc-ae23d9228f8e"
      },
      "source": [
        "drive.flush_and_unmount()\n",
        "print('All changes made in this colab session should now be visible in Drive.')"
      ],
      "execution_count": null,
      "outputs": [
        {
          "output_type": "stream",
          "name": "stdout",
          "text": [
            "All changes made in this colab session should now be visible in Drive.\n"
          ]
        }
      ]
    },
    {
      "cell_type": "code",
      "metadata": {
        "id": "hOdYSeRm9zpR"
      },
      "source": [
        "# define dataset & metadata as label\n",
        "def shorten_data(X_raw=X_raw):\n",
        "  # find minimum raw data length\n",
        "  length_min = np.amin([X_raw[index].shape[0] for index, _ in enumerate(X_raw)])\n",
        "\n",
        "  # find minimum raw data length index\n",
        "  length_min_index = [index for index, _ in enumerate(X_raw) if X_raw[index].shape[0] == length_min][0]\n",
        "\n",
        "  # filter raw data length to equal to minimum sample length\n",
        "  X_shorten = np.stack([X_raw[index][:length_min] for index, _ in enumerate(X_raw)], axis=0)\n",
        "\n",
        "  # output type = array\n",
        "  return X_shorten"
      ],
      "execution_count": null,
      "outputs": []
    },
    {
      "cell_type": "code",
      "metadata": {
        "id": "6_9l8mSCAWjX"
      },
      "source": [
        "X = shorten_data(X_raw=X_raw)"
      ],
      "execution_count": null,
      "outputs": []
    },
    {
      "cell_type": "code",
      "metadata": {
        "colab": {
          "base_uri": "https://localhost:8080/"
        },
        "id": "Q0ncF37eCNnL",
        "outputId": "bb6a705d-495f-471b-a4cc-8f21bf53d9b6"
      },
      "source": [
        "X.shape"
      ],
      "execution_count": null,
      "outputs": [
        {
          "output_type": "execute_result",
          "data": {
            "text/plain": [
              "(23, 330, 640, 224)"
            ]
          },
          "metadata": {},
          "execution_count": 24
        }
      ]
    },
    {
      "cell_type": "code",
      "metadata": {
        "id": "Hxb23EbsBnNH"
      },
      "source": [
        "# define scaler function\n",
        "def data_scaler(X=X):\n",
        "\n",
        "  # setup empty variable w/ the same shape to original tensor\n",
        "  X_scaled = np.zeros_like(X)\n",
        "\n",
        "  # scale along spectral domain\n",
        "  for wavelength in range(X.shape[-1]):\n",
        "      \n",
        "      # define scaler method\n",
        "      scaler = StandardScaler()\n",
        "      \n",
        "      # perform normalization -> assign to a temporary variable by\n",
        "          # flatten all data points shape\n",
        "          # standardize\n",
        "          # reshape back to orignial shape\n",
        "      X_scaled[:,:,:,wavelength] = scaler.fit_transform(X[:,:,:,wavelength].ravel().reshape(-1,1)).reshape(X[:,:,:,1].shape)\n",
        "  \n",
        "  return X_scaled"
      ],
      "execution_count": null,
      "outputs": []
    },
    {
      "cell_type": "code",
      "metadata": {
        "id": "g8tx6rLaB8X9"
      },
      "source": [
        "X = data_scaler(X=X)"
      ],
      "execution_count": null,
      "outputs": []
    },
    {
      "cell_type": "code",
      "metadata": {
        "colab": {
          "base_uri": "https://localhost:8080/"
        },
        "id": "8KSdMRWfB8Qp",
        "outputId": "99021f88-b174-4e21-dc5f-14af27b8519c"
      },
      "source": [
        "X.shape"
      ],
      "execution_count": null,
      "outputs": [
        {
          "output_type": "execute_result",
          "data": {
            "text/plain": [
              "(23, 330, 640, 224)"
            ]
          },
          "metadata": {},
          "execution_count": 27
        }
      ]
    },
    {
      "cell_type": "code",
      "metadata": {
        "colab": {
          "base_uri": "https://localhost:8080/"
        },
        "id": "EgElFJWqB8IE",
        "outputId": "015b2aa5-0447-40a7-f21d-27cfde5629ed"
      },
      "source": [
        "X[1]"
      ],
      "execution_count": null,
      "outputs": [
        {
          "output_type": "execute_result",
          "data": {
            "text/plain": [
              "array([[[6, 5, 4, ..., 5, 5, 5],\n",
              "        [4, 4, 4, ..., 5, 5, 5],\n",
              "        [4, 4, 4, ..., 4, 4, 4],\n",
              "        ...,\n",
              "        [5, 5, 4, ..., 5, 5, 5],\n",
              "        [5, 5, 4, ..., 6, 6, 6],\n",
              "        [6, 5, 5, ..., 6, 6, 6]],\n",
              "\n",
              "       [[6, 5, 4, ..., 5, 5, 5],\n",
              "        [4, 4, 4, ..., 5, 5, 5],\n",
              "        [4, 4, 4, ..., 4, 4, 4],\n",
              "        ...,\n",
              "        [5, 5, 4, ..., 5, 5, 5],\n",
              "        [5, 5, 4, ..., 6, 6, 6],\n",
              "        [6, 5, 5, ..., 6, 6, 6]],\n",
              "\n",
              "       [[6, 5, 4, ..., 5, 5, 5],\n",
              "        [5, 4, 4, ..., 5, 5, 5],\n",
              "        [4, 4, 4, ..., 4, 4, 4],\n",
              "        ...,\n",
              "        [5, 5, 4, ..., 5, 5, 5],\n",
              "        [5, 5, 4, ..., 6, 6, 6],\n",
              "        [6, 6, 5, ..., 6, 6, 6]],\n",
              "\n",
              "       ...,\n",
              "\n",
              "       [[1, 0, 0, ..., 0, 0, 0],\n",
              "        [0, 0, 0, ..., 0, 0, 0],\n",
              "        [0, 0, 0, ..., 0, 0, 0],\n",
              "        ...,\n",
              "        [0, 0, 0, ..., 0, 0, 0],\n",
              "        [0, 0, 0, ..., 0, 0, 1],\n",
              "        [0, 0, 0, ..., 0, 0, 1]],\n",
              "\n",
              "       [[1, 0, 0, ..., 0, 0, 0],\n",
              "        [0, 0, 0, ..., 0, 0, 0],\n",
              "        [0, 0, 0, ..., 0, 0, 0],\n",
              "        ...,\n",
              "        [0, 0, 0, ..., 0, 0, 0],\n",
              "        [0, 0, 0, ..., 0, 0, 0],\n",
              "        [0, 0, 0, ..., 0, 0, 0]],\n",
              "\n",
              "       [[1, 0, 0, ..., 0, 0, 0],\n",
              "        [0, 0, 0, ..., 0, 0, 0],\n",
              "        [0, 0, 0, ..., 0, 0, 0],\n",
              "        ...,\n",
              "        [0, 0, 0, ..., 0, 0, 0],\n",
              "        [0, 0, 0, ..., 0, 0, 1],\n",
              "        [0, 0, 0, ..., 0, 0, 1]]], dtype=uint16)"
            ]
          },
          "metadata": {},
          "execution_count": 28
        }
      ]
    },
    {
      "cell_type": "markdown",
      "metadata": {
        "id": "Q9SFsitiEfzf"
      },
      "source": [
        "# We are here @20210927\n",
        "## there is unusal values transformed from 0 to 65535 using StandardScaler\n",
        "## there is required to check value transformed using MinMaxScaler which 'how to save data to Drive'"
      ]
    },
    {
      "cell_type": "code",
      "metadata": {
        "colab": {
          "base_uri": "https://localhost:8080/"
        },
        "id": "2LMGRtR-Ea4O",
        "outputId": "b7999c37-5f0e-4662-e1b1-c84cadf9d76e"
      },
      "source": [
        "# Assign by splitting\n",
        "X_train, X_test, y_train, y_test = train_test_split(X, y, test_size=0.25, random_state=random_seed)\n",
        "\n",
        "# see splitted data\n",
        "print('train input: ', len(X_train), '\\t train label: ', len(y_train))\n",
        "print('test input: ', len(X_test), '\\t\\t test label: ', len(y_test))"
      ],
      "execution_count": null,
      "outputs": [
        {
          "output_type": "stream",
          "name": "stdout",
          "text": [
            "train input:  17 \t train label:  17\n",
            "test input:  6 \t\t test label:  6\n"
          ]
        }
      ]
    },
    {
      "cell_type": "code",
      "metadata": {
        "colab": {
          "base_uri": "https://localhost:8080/"
        },
        "id": "EdlEluHHEaws",
        "outputId": "aecfd5e3-18b1-41e3-a2a8-cc2c09c20723"
      },
      "source": [
        "X_train[:,:,:,:3].shape"
      ],
      "execution_count": null,
      "outputs": [
        {
          "output_type": "execute_result",
          "data": {
            "text/plain": [
              "(17, 330, 640, 3)"
            ]
          },
          "metadata": {},
          "execution_count": 32
        }
      ]
    },
    {
      "cell_type": "code",
      "metadata": {
        "colab": {
          "base_uri": "https://localhost:8080/"
        },
        "id": "9hl6DQ0pEapZ",
        "outputId": "38aa370a-398c-4a72-f9a1-0238c1223cc3"
      },
      "source": [
        "np.max(X_train)"
      ],
      "execution_count": null,
      "outputs": [
        {
          "output_type": "execute_result",
          "data": {
            "text/plain": [
              "65535"
            ]
          },
          "metadata": {},
          "execution_count": 33
        }
      ]
    },
    {
      "cell_type": "code",
      "metadata": {
        "colab": {
          "base_uri": "https://localhost:8080/"
        },
        "id": "9z0XoyEQEahe",
        "outputId": "08b9b8b2-884e-495c-b3cd-6b2334f29e25"
      },
      "source": [
        "np.amax(X)"
      ],
      "execution_count": null,
      "outputs": [
        {
          "output_type": "execute_result",
          "data": {
            "text/plain": [
              "1"
            ]
          },
          "metadata": {},
          "execution_count": 50
        }
      ]
    },
    {
      "cell_type": "code",
      "metadata": {
        "colab": {
          "base_uri": "https://localhost:8080/"
        },
        "id": "vGpzBTUDEaZ0",
        "outputId": "87255d71-a56d-4e28-8ef6-7316777cc742"
      },
      "source": [
        "np.where(65535)"
      ],
      "execution_count": null,
      "outputs": [
        {
          "output_type": "execute_result",
          "data": {
            "text/plain": [
              "(array([0]),)"
            ]
          },
          "metadata": {},
          "execution_count": 36
        }
      ]
    },
    {
      "cell_type": "code",
      "metadata": {
        "colab": {
          "base_uri": "https://localhost:8080/"
        },
        "id": "O286uirIEaRa",
        "outputId": "f9879a6d-34e1-468c-fb0a-c5e3303874f0"
      },
      "source": [
        "np.where(X == np.amax(X))"
      ],
      "execution_count": null,
      "outputs": [
        {
          "output_type": "execute_result",
          "data": {
            "text/plain": [
              "(array([2, 2, 2, ..., 3, 3, 3]),\n",
              " array([0, 0, 0, ..., 0, 0, 0]),\n",
              " array([  0,   0,   0, ..., 639, 639, 639]),\n",
              " array([  4,   5,   6, ..., 214, 215, 216]))"
            ]
          },
          "metadata": {},
          "execution_count": 39
        }
      ]
    },
    {
      "cell_type": "code",
      "metadata": {
        "id": "bUat37yFHJhO"
      },
      "source": [
        "# define scaler function\n",
        "def data_minmax(X=X):\n",
        "\n",
        "  # setup empty variable w/ the same shape to original tensor\n",
        "  X_scaled = np.zeros_like(X)\n",
        "\n",
        "  # scale along spectral domain\n",
        "  for wavelength in range(X.shape[-1]):\n",
        "      \n",
        "      # define scaler method\n",
        "      scaler = MinMaxScaler()\n",
        "      \n",
        "      # perform normalization -> assign to a temporary variable by\n",
        "          # flatten all data points shape\n",
        "          # standardize\n",
        "          # reshape back to orignial shape\n",
        "      X_scaled[:,:,:,wavelength] = scaler.fit_transform(X[:,:,:,wavelength].ravel().reshape(-1,1)).reshape(X[:,:,:,1].shape)\n",
        "  \n",
        "  return X_scaled"
      ],
      "execution_count": null,
      "outputs": []
    },
    {
      "cell_type": "code",
      "metadata": {
        "id": "BvdY4emnHQW_"
      },
      "source": [
        "X = data_minmax(X=X)"
      ],
      "execution_count": null,
      "outputs": []
    },
    {
      "cell_type": "code",
      "metadata": {
        "colab": {
          "base_uri": "https://localhost:8080/"
        },
        "id": "_N6s22nAGtC3",
        "outputId": "f1bb2acd-7488-4f71-fb76-29a4673c6b9e"
      },
      "source": [
        "X_raw[2]"
      ],
      "execution_count": null,
      "outputs": [
        {
          "output_type": "execute_result",
          "data": {
            "text/plain": [
              "array([[[  0,   0,   0, ...,   0,   0,   0],\n",
              "        [  0,   0,   0, ...,   0,   0,   0],\n",
              "        [  0,   0,   0, ...,   0,   0,   0],\n",
              "        ...,\n",
              "        [  0,   0,   0, ...,   0,   0,   0],\n",
              "        [  0,   0,   0, ...,   0,   0,   0],\n",
              "        [  0,   0,   0, ...,   0,   0,   0]],\n",
              "\n",
              "       [[380, 415, 507, ..., 481, 447, 420],\n",
              "        [335, 377, 463, ..., 474, 444, 417],\n",
              "        [333, 374, 459, ..., 425, 397, 376],\n",
              "        ...,\n",
              "        [354, 406, 495, ..., 474, 437, 427],\n",
              "        [354, 406, 495, ..., 516, 479, 464],\n",
              "        [376, 430, 520, ..., 516, 479, 464]],\n",
              "\n",
              "       [[380, 415, 507, ..., 481, 447, 420],\n",
              "        [335, 377, 463, ..., 474, 444, 417],\n",
              "        [333, 374, 459, ..., 425, 397, 376],\n",
              "        ...,\n",
              "        [354, 406, 495, ..., 474, 437, 427],\n",
              "        [354, 406, 495, ..., 516, 479, 464],\n",
              "        [376, 430, 520, ..., 516, 479, 464]],\n",
              "\n",
              "       ...,\n",
              "\n",
              "       [[241, 236, 246, ..., 253, 251, 242],\n",
              "        [203, 202, 207, ..., 247, 248, 239],\n",
              "        [203, 199, 203, ..., 203, 203, 198],\n",
              "        ...,\n",
              "        [203, 200, 205, ..., 221, 217, 226],\n",
              "        [201, 200, 204, ..., 256, 253, 260],\n",
              "        [223, 222, 225, ..., 256, 253, 260]],\n",
              "\n",
              "       [[241, 236, 245, ..., 253, 254, 241],\n",
              "        [204, 203, 206, ..., 247, 251, 238],\n",
              "        [201, 200, 203, ..., 204, 206, 200],\n",
              "        ...,\n",
              "        [204, 203, 205, ..., 222, 218, 222],\n",
              "        [203, 200, 205, ..., 258, 254, 255],\n",
              "        [225, 222, 224, ..., 258, 254, 255]],\n",
              "\n",
              "       [[243, 238, 245, ..., 254, 250, 240],\n",
              "        [202, 204, 206, ..., 247, 247, 238],\n",
              "        [202, 201, 204, ..., 204, 205, 200],\n",
              "        ...,\n",
              "        [201, 205, 202, ..., 221, 216, 219],\n",
              "        [200, 205, 203, ..., 255, 253, 254],\n",
              "        [224, 224, 223, ..., 255, 253, 254]]], dtype=uint16)"
            ]
          },
          "metadata": {},
          "execution_count": 46
        }
      ]
    },
    {
      "cell_type": "code",
      "metadata": {
        "colab": {
          "base_uri": "https://localhost:8080/"
        },
        "id": "Tjw565MAEaIg",
        "outputId": "554d9b18-6c9f-4882-9ee5-f7ff0887d1b8"
      },
      "source": [
        "X[6,200:,100:,1]"
      ],
      "execution_count": null,
      "outputs": [
        {
          "output_type": "execute_result",
          "data": {
            "text/plain": [
              "array([[0, 0, 0, ..., 0, 0, 0],\n",
              "       [0, 0, 0, ..., 0, 0, 0],\n",
              "       [0, 0, 0, ..., 0, 0, 0],\n",
              "       ...,\n",
              "       [0, 0, 0, ..., 0, 0, 0],\n",
              "       [0, 0, 0, ..., 0, 0, 0],\n",
              "       [0, 0, 0, ..., 0, 0, 0]], dtype=uint16)"
            ]
          },
          "metadata": {},
          "execution_count": 60
        }
      ]
    },
    {
      "cell_type": "code",
      "metadata": {
        "id": "Pn1gHMkPEZ-g"
      },
      "source": [
        ""
      ],
      "execution_count": null,
      "outputs": []
    },
    {
      "cell_type": "code",
      "metadata": {
        "id": "OM_RIz33B7oB"
      },
      "source": [
        ""
      ],
      "execution_count": null,
      "outputs": []
    },
    {
      "cell_type": "code",
      "metadata": {
        "id": "VoSQh3oQxWPe"
      },
      "source": [
        "## iterate through directory\n",
        "for subdir, dirs, files in os.walk(rootdir):\n",
        "  print(subdir)"
      ],
      "execution_count": null,
      "outputs": []
    },
    {
      "cell_type": "code",
      "metadata": {
        "colab": {
          "base_uri": "https://localhost:8080/",
          "height": 35
        },
        "id": "GcrIxZChxoNp",
        "outputId": "bdecb691-9f8e-4e5a-bd4d-3cfa55bde1e1"
      },
      "source": [
        "'/content/drive/My\\ Drive/all_about_phd/phd_data/sample_data'"
      ],
      "execution_count": null,
      "outputs": [
        {
          "output_type": "execute_result",
          "data": {
            "application/vnd.google.colaboratory.intrinsic+json": {
              "type": "string"
            },
            "text/plain": [
              "'/content/drive/My\\\\ Drive/all_about_phd/phd_data/sample_data'"
            ]
          },
          "metadata": {},
          "execution_count": 61
        }
      ]
    },
    {
      "cell_type": "code",
      "metadata": {
        "colab": {
          "base_uri": "https://localhost:8080/"
        },
        "id": "T4s-I8kGyJSb",
        "outputId": "c2c527b2-7b77-4f35-d961-0eaf39fc1206"
      },
      "source": [
        "os.walk(root_dir)"
      ],
      "execution_count": null,
      "outputs": [
        {
          "output_type": "execute_result",
          "data": {
            "text/plain": [
              "<generator object walk at 0x7f06aedc4a50>"
            ]
          },
          "metadata": {},
          "execution_count": 63
        }
      ]
    },
    {
      "cell_type": "code",
      "metadata": {
        "colab": {
          "base_uri": "https://localhost:8080/"
        },
        "id": "ip6Uv2ys0X1W",
        "outputId": "6f2e28be-c270-4685-b1e0-e85f6fe3c3d1"
      },
      "source": [
        "os.walk(rootdir)"
      ],
      "execution_count": null,
      "outputs": [
        {
          "output_type": "execute_result",
          "data": {
            "text/plain": [
              "<generator object walk at 0x7f06aedc46d0>"
            ]
          },
          "metadata": {},
          "execution_count": 64
        }
      ]
    },
    {
      "cell_type": "code",
      "metadata": {
        "colab": {
          "base_uri": "https://localhost:8080/"
        },
        "id": "XQXaPzvV0Y5X",
        "outputId": "46f2da00-9ea4-4808-ae7b-cd6b80355462"
      },
      "source": [
        "!ls \"/content/drive/My\\ Drive/all_about_phd/phd_data/sample_data\""
      ],
      "execution_count": null,
      "outputs": [
        {
          "output_type": "stream",
          "name": "stdout",
          "text": [
            "ls: cannot access '/content/drive/My\\ Drive/all_about_phd/phd_data/sample_data': No such file or directory\n"
          ]
        }
      ]
    },
    {
      "cell_type": "code",
      "metadata": {
        "colab": {
          "base_uri": "https://localhost:8080/",
          "height": 35
        },
        "id": "XjHD5ZAC5Jtx",
        "outputId": "32b08118-e04e-4cfe-b084-3682fa9c5765"
      },
      "source": [
        "rootdir"
      ],
      "execution_count": null,
      "outputs": [
        {
          "output_type": "execute_result",
          "data": {
            "application/vnd.google.colaboratory.intrinsic+json": {
              "type": "string"
            },
            "text/plain": [
              "'/content/drive/My Drive/all_about_phd/phd_data/sample_data'"
            ]
          },
          "metadata": {},
          "execution_count": 94
        }
      ]
    },
    {
      "cell_type": "code",
      "metadata": {
        "colab": {
          "base_uri": "https://localhost:8080/"
        },
        "id": "SHYfJsPh6DWD",
        "outputId": "494fa57d-a1eb-4a88-87e3-7441afb51d80"
      },
      "source": [
        "# Listing all subdirectories in a directory\n",
        "path3 = rootdir\n",
        "for entry in os.listdir(path3):\n",
        "    if os.path.isdir(os.path.join(path3, entry)):\n",
        "        print(entry)"
      ],
      "execution_count": null,
      "outputs": [
        {
          "output_type": "stream",
          "name": "stdout",
          "text": [
            "corriander_sample_3_0005\n",
            "corriander_sample_3_0002\n",
            "corriander_sample_3_0010\n",
            "corriander_sample_2_0010\n",
            "corriander_sample01__emptyname_0001\n",
            "corriander_sample01__emptyname_2021-02-18_08-13-22\n",
            "corriander_sample_3_0006\n",
            "corriander_sample01_defect_emptyname_0001\n",
            "corriander_sample01__emptyname_2021-02-18_06-49-42\n",
            "corriander_sample_3_0001\n",
            "corriander_sample01__emptyname_2021-02-18_07-17-28\n",
            "corriander_sample01_0001_emptyname\n",
            "corriander_sample01__emptyname_2021-02-18_07-30-45\n",
            "corriander_sample_3_0003\n",
            "corriander_sample_3_0007\n",
            "corriander_sample01_emptyname_0002\n",
            "corriander_sample_2_0007\n",
            "corriander_sample_2_0001\n",
            "corriander_sample_3_0008\n",
            "corriander_sample_2_0006\n",
            "corriander_sample_3_0009\n",
            "corriander_sample_2_0009\n",
            "corriander_sample_2_0008\n"
          ]
        }
      ]
    },
    {
      "cell_type": "code",
      "metadata": {
        "colab": {
          "base_uri": "https://localhost:8080/"
        },
        "id": "7CRVkgjI6O9P",
        "outputId": "0120efd3-2ac1-4277-ae96-ce47e8a58278"
      },
      "source": [
        "!ls /content/drive/My\\ Drive/all_about_phd/phd_data/sample_data"
      ],
      "execution_count": null,
      "outputs": [
        {
          "output_type": "stream",
          "name": "stdout",
          "text": [
            "corriander_sample01_0001_emptyname\t\t    corriander_sample_2_0009\n",
            "corriander_sample01_defect_emptyname_0001\t    corriander_sample_2_0010\n",
            "corriander_sample01__emptyname_0001\t\t    corriander_sample_3_0001\n",
            "corriander_sample01_emptyname_0002\t\t    corriander_sample_3_0002\n",
            "corriander_sample01__emptyname_2021-02-18_06-49-42  corriander_sample_3_0003\n",
            "corriander_sample01__emptyname_2021-02-18_07-17-28  corriander_sample_3_0005\n",
            "corriander_sample01__emptyname_2021-02-18_07-30-45  corriander_sample_3_0006\n",
            "corriander_sample01__emptyname_2021-02-18_08-13-22  corriander_sample_3_0007\n",
            "corriander_sample_2_0001\t\t\t    corriander_sample_3_0008\n",
            "corriander_sample_2_0006\t\t\t    corriander_sample_3_0009\n",
            "corriander_sample_2_0007\t\t\t    corriander_sample_3_0010\n",
            "corriander_sample_2_0008\n"
          ]
        }
      ]
    },
    {
      "cell_type": "code",
      "metadata": {
        "id": "nRW07lUT7yOO"
      },
      "source": [
        ""
      ],
      "execution_count": null,
      "outputs": []
    }
  ]
}