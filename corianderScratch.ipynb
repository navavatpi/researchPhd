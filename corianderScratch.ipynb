{
  "nbformat": 4,
  "nbformat_minor": 0,
  "metadata": {
    "colab": {
      "name": "corianderScratch.ipynb",
      "provenance": [],
      "collapsed_sections": [],
      "authorship_tag": "ABX9TyOOSds28G7xGeTbxYuKSPxX",
      "include_colab_link": true
    },
    "kernelspec": {
      "name": "python3",
      "display_name": "Python 3"
    },
    "language_info": {
      "name": "python"
    },
    "accelerator": "TPU"
  },
  "cells": [
    {
      "cell_type": "markdown",
      "metadata": {
        "id": "view-in-github",
        "colab_type": "text"
      },
      "source": [
        "<a href=\"https://colab.research.google.com/github/navavatpi/researchPhd/blob/develop/corianderScratch.ipynb\" target=\"_parent\"><img src=\"https://colab.research.google.com/assets/colab-badge.svg\" alt=\"Open In Colab\"/></a>"
      ]
    },
    {
      "cell_type": "code",
      "metadata": {
        "id": "naTWf2Rdsgb9"
      },
      "source": [
        "# # https://pypi.python.org/pypi/pydot\n",
        "# !apt-get -qq install -y graphviz && pip install pydot\n",
        "# import pydot"
      ],
      "execution_count": null,
      "outputs": []
    },
    {
      "cell_type": "markdown",
      "metadata": {
        "id": "riTfccSRae30"
      },
      "source": [
        "# Template"
      ]
    },
    {
      "cell_type": "markdown",
      "metadata": {
        "id": "nxqLVbvJamze"
      },
      "source": [
        "## Environment Setup"
      ]
    },
    {
      "cell_type": "code",
      "metadata": {
        "colab": {
          "base_uri": "https://localhost:8080/"
        },
        "id": "lQME0BwnuXWU",
        "outputId": "4de39825-9d00-41f3-bf20-10ac3151c3e7"
      },
      "source": [
        "# Enabling and testing the TPU\n",
        "%tensorflow_version 2.x\n",
        "import tensorflow as tf\n",
        "print(\"Tensorflow version \" + tf.__version__)\n",
        "\n",
        "try:\n",
        "  tpu = tf.distribute.cluster_resolver.TPUClusterResolver()  # TPU detection\n",
        "  print('Running on TPU ', tpu.cluster_spec().as_dict()['worker'])\n",
        "except ValueError:\n",
        "  raise BaseException('ERROR: Not connected to a TPU runtime; please see the previous cell in this notebook for instructions!')\n",
        "\n",
        "tf.config.experimental_connect_to_cluster(tpu)\n",
        "tf.tpu.experimental.initialize_tpu_system(tpu)\n",
        "tpu_strategy = tf.distribute.experimental.TPUStrategy(tpu)"
      ],
      "execution_count": 12,
      "outputs": [
        {
          "output_type": "stream",
          "name": "stdout",
          "text": [
            "Tensorflow version 2.6.0\n",
            "Running on TPU  ['10.22.182.90:8470']\n",
            "INFO:tensorflow:Clearing out eager caches\n"
          ]
        },
        {
          "output_type": "stream",
          "name": "stderr",
          "text": [
            "INFO:tensorflow:Clearing out eager caches\n"
          ]
        },
        {
          "output_type": "stream",
          "name": "stdout",
          "text": [
            "WARNING:tensorflow:TPU system grpc://10.22.182.90:8470 has already been initialized. Reinitializing the TPU can cause previously created variables on TPU to be lost.\n"
          ]
        },
        {
          "output_type": "stream",
          "name": "stderr",
          "text": [
            "WARNING:tensorflow:TPU system grpc://10.22.182.90:8470 has already been initialized. Reinitializing the TPU can cause previously created variables on TPU to be lost.\n"
          ]
        },
        {
          "output_type": "stream",
          "name": "stdout",
          "text": [
            "INFO:tensorflow:Initializing the TPU system: grpc://10.22.182.90:8470\n"
          ]
        },
        {
          "output_type": "stream",
          "name": "stderr",
          "text": [
            "INFO:tensorflow:Initializing the TPU system: grpc://10.22.182.90:8470\n"
          ]
        },
        {
          "output_type": "stream",
          "name": "stdout",
          "text": [
            "INFO:tensorflow:Finished initializing TPU system.\n"
          ]
        },
        {
          "output_type": "stream",
          "name": "stderr",
          "text": [
            "INFO:tensorflow:Finished initializing TPU system.\n",
            "WARNING:absl:`tf.distribute.experimental.TPUStrategy` is deprecated, please use  the non experimental symbol `tf.distribute.TPUStrategy` instead.\n"
          ]
        },
        {
          "output_type": "stream",
          "name": "stdout",
          "text": [
            "INFO:tensorflow:Found TPU system:\n"
          ]
        },
        {
          "output_type": "stream",
          "name": "stderr",
          "text": [
            "INFO:tensorflow:Found TPU system:\n"
          ]
        },
        {
          "output_type": "stream",
          "name": "stdout",
          "text": [
            "INFO:tensorflow:*** Num TPU Cores: 8\n"
          ]
        },
        {
          "output_type": "stream",
          "name": "stderr",
          "text": [
            "INFO:tensorflow:*** Num TPU Cores: 8\n"
          ]
        },
        {
          "output_type": "stream",
          "name": "stdout",
          "text": [
            "INFO:tensorflow:*** Num TPU Workers: 1\n"
          ]
        },
        {
          "output_type": "stream",
          "name": "stderr",
          "text": [
            "INFO:tensorflow:*** Num TPU Workers: 1\n"
          ]
        },
        {
          "output_type": "stream",
          "name": "stdout",
          "text": [
            "INFO:tensorflow:*** Num TPU Cores Per Worker: 8\n"
          ]
        },
        {
          "output_type": "stream",
          "name": "stderr",
          "text": [
            "INFO:tensorflow:*** Num TPU Cores Per Worker: 8\n"
          ]
        },
        {
          "output_type": "stream",
          "name": "stdout",
          "text": [
            "INFO:tensorflow:*** Available Device: _DeviceAttributes(/job:localhost/replica:0/task:0/device:CPU:0, CPU, 0, 0)\n"
          ]
        },
        {
          "output_type": "stream",
          "name": "stderr",
          "text": [
            "INFO:tensorflow:*** Available Device: _DeviceAttributes(/job:localhost/replica:0/task:0/device:CPU:0, CPU, 0, 0)\n"
          ]
        },
        {
          "output_type": "stream",
          "name": "stdout",
          "text": [
            "INFO:tensorflow:*** Available Device: _DeviceAttributes(/job:worker/replica:0/task:0/device:CPU:0, CPU, 0, 0)\n"
          ]
        },
        {
          "output_type": "stream",
          "name": "stderr",
          "text": [
            "INFO:tensorflow:*** Available Device: _DeviceAttributes(/job:worker/replica:0/task:0/device:CPU:0, CPU, 0, 0)\n"
          ]
        },
        {
          "output_type": "stream",
          "name": "stdout",
          "text": [
            "INFO:tensorflow:*** Available Device: _DeviceAttributes(/job:worker/replica:0/task:0/device:TPU:0, TPU, 0, 0)\n"
          ]
        },
        {
          "output_type": "stream",
          "name": "stderr",
          "text": [
            "INFO:tensorflow:*** Available Device: _DeviceAttributes(/job:worker/replica:0/task:0/device:TPU:0, TPU, 0, 0)\n"
          ]
        },
        {
          "output_type": "stream",
          "name": "stdout",
          "text": [
            "INFO:tensorflow:*** Available Device: _DeviceAttributes(/job:worker/replica:0/task:0/device:TPU:1, TPU, 0, 0)\n"
          ]
        },
        {
          "output_type": "stream",
          "name": "stderr",
          "text": [
            "INFO:tensorflow:*** Available Device: _DeviceAttributes(/job:worker/replica:0/task:0/device:TPU:1, TPU, 0, 0)\n"
          ]
        },
        {
          "output_type": "stream",
          "name": "stdout",
          "text": [
            "INFO:tensorflow:*** Available Device: _DeviceAttributes(/job:worker/replica:0/task:0/device:TPU:2, TPU, 0, 0)\n"
          ]
        },
        {
          "output_type": "stream",
          "name": "stderr",
          "text": [
            "INFO:tensorflow:*** Available Device: _DeviceAttributes(/job:worker/replica:0/task:0/device:TPU:2, TPU, 0, 0)\n"
          ]
        },
        {
          "output_type": "stream",
          "name": "stdout",
          "text": [
            "INFO:tensorflow:*** Available Device: _DeviceAttributes(/job:worker/replica:0/task:0/device:TPU:3, TPU, 0, 0)\n"
          ]
        },
        {
          "output_type": "stream",
          "name": "stderr",
          "text": [
            "INFO:tensorflow:*** Available Device: _DeviceAttributes(/job:worker/replica:0/task:0/device:TPU:3, TPU, 0, 0)\n"
          ]
        },
        {
          "output_type": "stream",
          "name": "stdout",
          "text": [
            "INFO:tensorflow:*** Available Device: _DeviceAttributes(/job:worker/replica:0/task:0/device:TPU:4, TPU, 0, 0)\n"
          ]
        },
        {
          "output_type": "stream",
          "name": "stderr",
          "text": [
            "INFO:tensorflow:*** Available Device: _DeviceAttributes(/job:worker/replica:0/task:0/device:TPU:4, TPU, 0, 0)\n"
          ]
        },
        {
          "output_type": "stream",
          "name": "stdout",
          "text": [
            "INFO:tensorflow:*** Available Device: _DeviceAttributes(/job:worker/replica:0/task:0/device:TPU:5, TPU, 0, 0)\n"
          ]
        },
        {
          "output_type": "stream",
          "name": "stderr",
          "text": [
            "INFO:tensorflow:*** Available Device: _DeviceAttributes(/job:worker/replica:0/task:0/device:TPU:5, TPU, 0, 0)\n"
          ]
        },
        {
          "output_type": "stream",
          "name": "stdout",
          "text": [
            "INFO:tensorflow:*** Available Device: _DeviceAttributes(/job:worker/replica:0/task:0/device:TPU:6, TPU, 0, 0)\n"
          ]
        },
        {
          "output_type": "stream",
          "name": "stderr",
          "text": [
            "INFO:tensorflow:*** Available Device: _DeviceAttributes(/job:worker/replica:0/task:0/device:TPU:6, TPU, 0, 0)\n"
          ]
        },
        {
          "output_type": "stream",
          "name": "stdout",
          "text": [
            "INFO:tensorflow:*** Available Device: _DeviceAttributes(/job:worker/replica:0/task:0/device:TPU:7, TPU, 0, 0)\n"
          ]
        },
        {
          "output_type": "stream",
          "name": "stderr",
          "text": [
            "INFO:tensorflow:*** Available Device: _DeviceAttributes(/job:worker/replica:0/task:0/device:TPU:7, TPU, 0, 0)\n"
          ]
        },
        {
          "output_type": "stream",
          "name": "stdout",
          "text": [
            "INFO:tensorflow:*** Available Device: _DeviceAttributes(/job:worker/replica:0/task:0/device:TPU_SYSTEM:0, TPU_SYSTEM, 0, 0)\n"
          ]
        },
        {
          "output_type": "stream",
          "name": "stderr",
          "text": [
            "INFO:tensorflow:*** Available Device: _DeviceAttributes(/job:worker/replica:0/task:0/device:TPU_SYSTEM:0, TPU_SYSTEM, 0, 0)\n"
          ]
        },
        {
          "output_type": "stream",
          "name": "stdout",
          "text": [
            "INFO:tensorflow:*** Available Device: _DeviceAttributes(/job:worker/replica:0/task:0/device:XLA_CPU:0, XLA_CPU, 0, 0)\n"
          ]
        },
        {
          "output_type": "stream",
          "name": "stderr",
          "text": [
            "INFO:tensorflow:*** Available Device: _DeviceAttributes(/job:worker/replica:0/task:0/device:XLA_CPU:0, XLA_CPU, 0, 0)\n"
          ]
        }
      ]
    },
    {
      "cell_type": "code",
      "metadata": {
        "id": "VI8UC2kAvyAP",
        "colab": {
          "base_uri": "https://localhost:8080/"
        },
        "outputId": "55fffa12-6963-4700-e762-0b8eb88310f5"
      },
      "source": [
        "# libraries import\n",
        "import os\n",
        "import re\n",
        "import numpy as np\n",
        "import matplotlib.pyplot as plt\n",
        "\n",
        "from sklearn.model_selection import train_test_split,GridSearchCV # I/O separator\n",
        "from sklearn.preprocessing import StandardScaler # data preparation\n",
        "from sklearn.preprocessing import MinMaxScaler\n",
        "from tensorflow.keras.utils import to_categorical\n",
        "\n",
        "%matplotlib inline # enable visualization visible\n",
        "random_seed = 20 # random seed"
      ],
      "execution_count": 34,
      "outputs": [
        {
          "output_type": "stream",
          "name": "stderr",
          "text": [
            "UsageError: unrecognized arguments: # enable visualization visible\n"
          ]
        }
      ]
    },
    {
      "cell_type": "code",
      "metadata": {
        "colab": {
          "base_uri": "https://localhost:8080/"
        },
        "id": "r_2nnZRlujmA",
        "outputId": "5c3fe85b-5ab6-421c-8e0e-360078cd1739"
      },
      "source": [
        "# connect to google drive to obtain dataset\n",
        "# !note: need to perform authorization by following below link\n",
        "from google.colab import drive\n",
        "drive.mount('/content/drive')"
      ],
      "execution_count": 14,
      "outputs": [
        {
          "output_type": "stream",
          "name": "stdout",
          "text": [
            "Mounted at /content/drive\n"
          ]
        }
      ]
    },
    {
      "cell_type": "markdown",
      "metadata": {
        "id": "n-Hrt5epgDiW"
      },
      "source": [
        "## Data Acquisition"
      ]
    },
    {
      "cell_type": "code",
      "metadata": {
        "colab": {
          "base_uri": "https://localhost:8080/"
        },
        "id": "XTkcZk5ryhEh",
        "outputId": "98577a0b-b216-49ad-bfdf-b19ea706349f"
      },
      "source": [
        "# list all data sample in specific directory\n",
        "!ls /content/drive/My\\ Drive/all_about_phd/phd_data/sample_data"
      ],
      "execution_count": 15,
      "outputs": [
        {
          "output_type": "stream",
          "name": "stdout",
          "text": [
            "corriander_sample01_0001_emptyname\t\t    corriander_sample_2_0009\n",
            "corriander_sample01_defect_emptyname_0001\t    corriander_sample_2_0010\n",
            "corriander_sample01__emptyname_0001\t\t    corriander_sample_3_0001\n",
            "corriander_sample01_emptyname_0002\t\t    corriander_sample_3_0002\n",
            "corriander_sample01__emptyname_2021-02-18_06-49-42  corriander_sample_3_0003\n",
            "corriander_sample01__emptyname_2021-02-18_07-17-28  corriander_sample_3_0005\n",
            "corriander_sample01__emptyname_2021-02-18_07-30-45  corriander_sample_3_0006\n",
            "corriander_sample01__emptyname_2021-02-18_08-13-22  corriander_sample_3_0007\n",
            "corriander_sample_2_0001\t\t\t    corriander_sample_3_0008\n",
            "corriander_sample_2_0006\t\t\t    corriander_sample_3_0009\n",
            "corriander_sample_2_0007\t\t\t    corriander_sample_3_0010\n",
            "corriander_sample_2_0008\n"
          ]
        }
      ]
    },
    {
      "cell_type": "code",
      "metadata": {
        "colab": {
          "base_uri": "https://localhost:8080/"
        },
        "id": "MEFqxeafwE9J",
        "outputId": "b1b6f815-ea58-4f58-be3f-17378a0713d6"
      },
      "source": [
        "# define path to files\n",
        "defaultdir = '/content/drive/My Drive/all_about_phd/phd_data/'\n",
        "\n",
        "## full dataset\n",
        "# rootdir = defaultdir + 'data_20210218'\n",
        "\n",
        "## test dataset\n",
        "rootdir = defaultdir + 'sample_data'\n",
        "\n",
        "## check\n",
        "print(rootdir)"
      ],
      "execution_count": 16,
      "outputs": [
        {
          "output_type": "stream",
          "name": "stdout",
          "text": [
            "/content/drive/My Drive/all_about_phd/phd_data/sample_data\n"
          ]
        }
      ]
    },
    {
      "cell_type": "code",
      "metadata": {
        "id": "Lb8Gqv8r8M0Q"
      },
      "source": [
        "# define dataset & metadata as label function\n",
        "def read_data_from_files(path=rootdir):\n",
        "  ## assign dataset & metadata\n",
        "  X_raw = []\n",
        "  y_slug= []\n",
        "\n",
        "  ## iterate through directory\n",
        "  for subdir, dirs, files in os.walk(rootdir):\n",
        "      for file in files:\n",
        "        # filter only for raw file\n",
        "        if file.endswith('.raw'):\n",
        "            # assign data -> dataset \n",
        "            ## by fixing dimension as follows HSI e.g. \n",
        "            ### X = length (collection time dependent),\n",
        "            ### Y = spectral domain (fixed at 224, all spectra),\n",
        "            ### Z = width (fixed at 640)\n",
        "            ### then swap axes between width (Z) vs. spectral (Y)\n",
        "            X_raw.append(np.fromfile(os.path.join(subdir, file), dtype='uint16').reshape(-1,224,640).swapaxes(1,2))\n",
        "            \n",
        "            # assign label -> cut some unneceasary\n",
        "            y_slug.append(re.search('(\\d+.+\\d+)', file).group(0))\n",
        "\n",
        "  # extract label; y <- data_slug using RegEx\n",
        "  y = np.stack([(int(re.findall('([\\d{1}])(?=_)', y_slug[index], flags=0)[0])) for index, _ in enumerate(y_slug)])\n",
        "\n",
        "  # different class number from label \n",
        "  y = to_categorical(y - 1, num_classes=len(list(set(y))))\n",
        "\n",
        "  del y_slug\n",
        "\n",
        "  # output type = list (x), array (y)\n",
        "  return X_raw, y"
      ],
      "execution_count": 17,
      "outputs": []
    },
    {
      "cell_type": "code",
      "metadata": {
        "id": "3VsGPeSz9PhK"
      },
      "source": [
        "# aquire dataset using defined function\n",
        "# !note: this process take some minutes\n",
        "X_raw, y = read_data_from_files()"
      ],
      "execution_count": 18,
      "outputs": []
    },
    {
      "cell_type": "code",
      "metadata": {
        "id": "zxSkb_99uoef"
      },
      "source": [
        "# show images of sample in a spectrum\n",
        "fig, axes = plt.subplots(nrows=2, ncols=2)\n",
        "\n",
        "## sample 0th - 3th are selected\n",
        "## Z; spectral, is randomly specified\n",
        "axes[0, 0].imshow(X_raw[0][:,:,0])\n",
        "axes[0, 1].imshow(X_raw[1][:,:,50])\n",
        "axes[1, 0].imshow(X_raw[2][:,:,100])\n",
        "axes[1, 1].imshow(x_raw[3][:,:,223])\n",
        "\n",
        "plt.setp(plt.gcf().get_axes(), xticks=[], yticks=[]);\n",
        "fig.suptitle('Example raw data of coriander samples', fontsize=16)\n",
        "fig.tight_layout()"
      ],
      "execution_count": null,
      "outputs": []
    },
    {
      "cell_type": "code",
      "metadata": {
        "id": "-b_dVEI5Bgn9",
        "colab": {
          "base_uri": "https://localhost:8080/"
        },
        "outputId": "cbdc596c-5d0c-44c6-dfb5-f957b2ca02bf"
      },
      "source": [
        "# disconnect google drive after finish\n",
        "\n",
        "drive.flush_and_unmount()\n",
        "print('All changes made in this colab session should now be visible in Drive.')"
      ],
      "execution_count": 19,
      "outputs": [
        {
          "output_type": "stream",
          "name": "stdout",
          "text": [
            "All changes made in this colab session should now be visible in Drive.\n"
          ]
        }
      ]
    },
    {
      "cell_type": "markdown",
      "metadata": {
        "id": "5jg9TImEoPXX"
      },
      "source": [
        "## Data Prepatation"
      ]
    },
    {
      "cell_type": "code",
      "metadata": {
        "id": "hOdYSeRm9zpR"
      },
      "source": [
        "# define shorten all sample length into the shortest length function\n",
        "def shorten_data(X_raw=X_raw):\n",
        "  # find minimum raw data length\n",
        "  length_min = np.amin([X_raw[index].shape[0] for index, _ in enumerate(X_raw)])\n",
        "\n",
        "  # find minimum raw data length index\n",
        "  length_min_index = [index for index, _ in enumerate(X_raw) if X_raw[index].shape[0] == length_min][0]\n",
        "\n",
        "  # filter raw data length to equal to minimum sample length\n",
        "  X_shorten = np.stack([X_raw[index][:length_min] for index, _ in enumerate(X_raw)], axis=0)\n",
        "\n",
        "  # output type = array\n",
        "  return X_shorten"
      ],
      "execution_count": 20,
      "outputs": []
    },
    {
      "cell_type": "code",
      "metadata": {
        "id": "6_9l8mSCAWjX",
        "colab": {
          "base_uri": "https://localhost:8080/"
        },
        "outputId": "e5826d60-f8df-450e-d0e6-3861ee3d9b90"
      },
      "source": [
        "# perform shortening function\n",
        "X = shorten_data(X_raw=X_raw)\n",
        "\n",
        "# checkout dimensionality of shorten data\n",
        "print('data dimensionality was shorten from', X_raw[0].shape, 'into', X[0].shape)\n",
        "\n",
        "# delete unused data\n",
        "del X_raw"
      ],
      "execution_count": 21,
      "outputs": [
        {
          "output_type": "stream",
          "name": "stdout",
          "text": [
            "data dimensionality was shorten from (337, 640, 224) into (330, 640, 224)\n"
          ]
        }
      ]
    },
    {
      "cell_type": "code",
      "metadata": {
        "id": "Hxb23EbsBnNH"
      },
      "source": [
        "# define scaler function to adjust value using Z-score scaling\n",
        "def data_zscaler(X=X):\n",
        "\n",
        "  # setup empty variable w/ the same shape to original tensor\n",
        "  X_scaled = np.zeros_like(X)\n",
        "\n",
        "  # scale along spectral domain\n",
        "  for wavelength in range(X.shape[-1]):\n",
        "      \n",
        "      # define scaler method\n",
        "      scaler = StandardScaler()\n",
        "      \n",
        "      # perform normalization -> assign to a temporary variable by\n",
        "          # flatten all data points shape\n",
        "          # standardize\n",
        "          # reshape back to orignial shape\n",
        "      X_scaled[:,:,:,wavelength] = scaler.fit_transform(X[:,:,:,wavelength].ravel().reshape(-1,1)).reshape(X[:,:,:,1].shape)\n",
        "  \n",
        "  return X_scaled"
      ],
      "execution_count": 22,
      "outputs": []
    },
    {
      "cell_type": "code",
      "metadata": {
        "id": "g8tx6rLaB8X9"
      },
      "source": [
        "# perform scaler function\n",
        "# !note: this process take some minutes\n",
        "Xz = data_zscaler(X=X)"
      ],
      "execution_count": 25,
      "outputs": []
    },
    {
      "cell_type": "code",
      "metadata": {
        "id": "EgElFJWqB8IE"
      },
      "source": [
        "# define scaler function to adjust value using normalization\n",
        "def data_nscaler(X=X):\n",
        "\n",
        "  # setup empty variable w/ the same shape to original tensor\n",
        "  X_scaled = np.zeros_like(X)\n",
        "\n",
        "  # scale along spectral domain\n",
        "  for wavelength in range(X.shape[-1]):\n",
        "      \n",
        "      # define scaler method\n",
        "      scaler = MinMaxScaler()\n",
        "      \n",
        "      # perform normalization -> assign to a temporary variable by\n",
        "          # flatten all data points shape\n",
        "          # normalization\n",
        "          # reshape back to orignial shape\n",
        "      X_scaled[:,:,:,wavelength] = scaler.fit_transform(X[:,:,:,wavelength].ravel().reshape(-1,1)).reshape(X[:,:,:,1].shape)\n",
        "  \n",
        "  return X_scaled"
      ],
      "execution_count": 26,
      "outputs": []
    },
    {
      "cell_type": "code",
      "metadata": {
        "id": "ahWv8j37r1JM"
      },
      "source": [
        "# perform scaler function\n",
        "# !note: this process take some minutes\n",
        "Xn = data_nscaler(X=X)"
      ],
      "execution_count": 27,
      "outputs": []
    },
    {
      "cell_type": "code",
      "metadata": {
        "colab": {
          "base_uri": "https://localhost:8080/",
          "height": 288
        },
        "id": "Oy3iKZhBuV4s",
        "outputId": "6dc679f4-1cda-4195-daa7-7351bd67f877"
      },
      "source": [
        "# show images of sample in a spectrum\n",
        "fig, axes = plt.subplots(nrows=2, ncols=2)\n",
        "\n",
        "## sample 0th - 3th are selected\n",
        "## Z; spectral, is randomly specified\n",
        "axes[0, 0].imshow(Xz[0][:,:,0])\n",
        "axes[0, 1].imshow(Xz[1][:,:,50])\n",
        "axes[1, 0].imshow(Xn[2][:,:,100])\n",
        "axes[1, 1].imshow(Xn[3][:,:,223])\n",
        "\n",
        "plt.setp(plt.gcf().get_axes(), xticks=[], yticks=[]);\n",
        "fig.suptitle('Example raw data of coriander samples', fontsize=16)\n",
        "fig.tight_layout()"
      ],
      "execution_count": 36,
      "outputs": [
        {
          "output_type": "display_data",
          "data": {
            "image/png": "[encoded data removed]",
            "text/plain": [
              "<Figure size 432x288 with 4 Axes>"
            ]
          },
          "metadata": {}
        }
      ]
    },
    {
      "cell_type": "markdown",
      "metadata": {
        "id": "Q9SFsitiEfzf"
      },
      "source": [
        "# We are here @20210927\n",
        "## there is unusal values transformed from 0 to 65535 using StandardScaler\n",
        "## there is required to check value transformed using MinMaxScaler which 'how to save data to Drive'"
      ]
    },
    {
      "cell_type": "code",
      "metadata": {
        "colab": {
          "base_uri": "https://localhost:8080/"
        },
        "id": "2LMGRtR-Ea4O",
        "outputId": "b7999c37-5f0e-4662-e1b1-c84cadf9d76e"
      },
      "source": [
        "# Assign by splitting\n",
        "X_train, X_test, y_train, y_test = train_test_split(X, y, test_size=0.25, random_state=random_seed)\n",
        "\n",
        "# see splitted data\n",
        "print('train input: ', len(X_train), '\\t train label: ', len(y_train))\n",
        "print('test input: ', len(X_test), '\\t\\t test label: ', len(y_test))"
      ],
      "execution_count": null,
      "outputs": [
        {
          "output_type": "stream",
          "name": "stdout",
          "text": [
            "train input:  17 \t train label:  17\n",
            "test input:  6 \t\t test label:  6\n"
          ]
        }
      ]
    },
    {
      "cell_type": "code",
      "metadata": {
        "colab": {
          "base_uri": "https://localhost:8080/"
        },
        "id": "EdlEluHHEaws",
        "outputId": "aecfd5e3-18b1-41e3-a2a8-cc2c09c20723"
      },
      "source": [
        "X_train[:,:,:,:3].shape"
      ],
      "execution_count": null,
      "outputs": [
        {
          "output_type": "execute_result",
          "data": {
            "text/plain": [
              "(17, 330, 640, 3)"
            ]
          },
          "metadata": {},
          "execution_count": 32
        }
      ]
    },
    {
      "cell_type": "code",
      "metadata": {
        "colab": {
          "base_uri": "https://localhost:8080/"
        },
        "id": "9hl6DQ0pEapZ",
        "outputId": "38aa370a-398c-4a72-f9a1-0238c1223cc3"
      },
      "source": [
        "np.max(X_train)"
      ],
      "execution_count": null,
      "outputs": [
        {
          "output_type": "execute_result",
          "data": {
            "text/plain": [
              "65535"
            ]
          },
          "metadata": {},
          "execution_count": 33
        }
      ]
    },
    {
      "cell_type": "code",
      "metadata": {
        "colab": {
          "base_uri": "https://localhost:8080/"
        },
        "id": "9z0XoyEQEahe",
        "outputId": "08b9b8b2-884e-495c-b3cd-6b2334f29e25"
      },
      "source": [
        "np.amax(X)"
      ],
      "execution_count": null,
      "outputs": [
        {
          "output_type": "execute_result",
          "data": {
            "text/plain": [
              "1"
            ]
          },
          "metadata": {},
          "execution_count": 50
        }
      ]
    },
    {
      "cell_type": "code",
      "metadata": {
        "colab": {
          "base_uri": "https://localhost:8080/"
        },
        "id": "vGpzBTUDEaZ0",
        "outputId": "87255d71-a56d-4e28-8ef6-7316777cc742"
      },
      "source": [
        "np.where(65535)"
      ],
      "execution_count": null,
      "outputs": [
        {
          "output_type": "execute_result",
          "data": {
            "text/plain": [
              "(array([0]),)"
            ]
          },
          "metadata": {},
          "execution_count": 36
        }
      ]
    },
    {
      "cell_type": "code",
      "metadata": {
        "colab": {
          "base_uri": "https://localhost:8080/"
        },
        "id": "O286uirIEaRa",
        "outputId": "f9879a6d-34e1-468c-fb0a-c5e3303874f0"
      },
      "source": [
        "np.where(X == np.amax(X))"
      ],
      "execution_count": null,
      "outputs": [
        {
          "output_type": "execute_result",
          "data": {
            "text/plain": [
              "(array([2, 2, 2, ..., 3, 3, 3]),\n",
              " array([0, 0, 0, ..., 0, 0, 0]),\n",
              " array([  0,   0,   0, ..., 639, 639, 639]),\n",
              " array([  4,   5,   6, ..., 214, 215, 216]))"
            ]
          },
          "metadata": {},
          "execution_count": 39
        }
      ]
    },
    {
      "cell_type": "code",
      "metadata": {
        "id": "bUat37yFHJhO"
      },
      "source": [
        "# define scaler function\n",
        "def data_minmax(X=X):\n",
        "\n",
        "  # setup empty variable w/ the same shape to original tensor\n",
        "  X_scaled = np.zeros_like(X)\n",
        "\n",
        "  # scale along spectral domain\n",
        "  for wavelength in range(X.shape[-1]):\n",
        "      \n",
        "      # define scaler method\n",
        "      scaler = MinMaxScaler()\n",
        "      \n",
        "      # perform normalization -> assign to a temporary variable by\n",
        "          # flatten all data points shape\n",
        "          # standardize\n",
        "          # reshape back to orignial shape\n",
        "      X_scaled[:,:,:,wavelength] = scaler.fit_transform(X[:,:,:,wavelength].ravel().reshape(-1,1)).reshape(X[:,:,:,1].shape)\n",
        "  \n",
        "  return X_scaled"
      ],
      "execution_count": null,
      "outputs": []
    },
    {
      "cell_type": "code",
      "metadata": {
        "id": "BvdY4emnHQW_"
      },
      "source": [
        "X = data_minmax(X=X)"
      ],
      "execution_count": null,
      "outputs": []
    },
    {
      "cell_type": "code",
      "metadata": {
        "colab": {
          "base_uri": "https://localhost:8080/"
        },
        "id": "_N6s22nAGtC3",
        "outputId": "f1bb2acd-7488-4f71-fb76-29a4673c6b9e"
      },
      "source": [
        "X_raw[2]"
      ],
      "execution_count": null,
      "outputs": [
        {
          "output_type": "execute_result",
          "data": {
            "text/plain": [
              "array([[[  0,   0,   0, ...,   0,   0,   0],\n",
              "        [  0,   0,   0, ...,   0,   0,   0],\n",
              "        [  0,   0,   0, ...,   0,   0,   0],\n",
              "        ...,\n",
              "        [  0,   0,   0, ...,   0,   0,   0],\n",
              "        [  0,   0,   0, ...,   0,   0,   0],\n",
              "        [  0,   0,   0, ...,   0,   0,   0]],\n",
              "\n",
              "       [[380, 415, 507, ..., 481, 447, 420],\n",
              "        [335, 377, 463, ..., 474, 444, 417],\n",
              "        [333, 374, 459, ..., 425, 397, 376],\n",
              "        ...,\n",
              "        [354, 406, 495, ..., 474, 437, 427],\n",
              "        [354, 406, 495, ..., 516, 479, 464],\n",
              "        [376, 430, 520, ..., 516, 479, 464]],\n",
              "\n",
              "       [[380, 415, 507, ..., 481, 447, 420],\n",
              "        [335, 377, 463, ..., 474, 444, 417],\n",
              "        [333, 374, 459, ..., 425, 397, 376],\n",
              "        ...,\n",
              "        [354, 406, 495, ..., 474, 437, 427],\n",
              "        [354, 406, 495, ..., 516, 479, 464],\n",
              "        [376, 430, 520, ..., 516, 479, 464]],\n",
              "\n",
              "       ...,\n",
              "\n",
              "       [[241, 236, 246, ..., 253, 251, 242],\n",
              "        [203, 202, 207, ..., 247, 248, 239],\n",
              "        [203, 199, 203, ..., 203, 203, 198],\n",
              "        ...,\n",
              "        [203, 200, 205, ..., 221, 217, 226],\n",
              "        [201, 200, 204, ..., 256, 253, 260],\n",
              "        [223, 222, 225, ..., 256, 253, 260]],\n",
              "\n",
              "       [[241, 236, 245, ..., 253, 254, 241],\n",
              "        [204, 203, 206, ..., 247, 251, 238],\n",
              "        [201, 200, 203, ..., 204, 206, 200],\n",
              "        ...,\n",
              "        [204, 203, 205, ..., 222, 218, 222],\n",
              "        [203, 200, 205, ..., 258, 254, 255],\n",
              "        [225, 222, 224, ..., 258, 254, 255]],\n",
              "\n",
              "       [[243, 238, 245, ..., 254, 250, 240],\n",
              "        [202, 204, 206, ..., 247, 247, 238],\n",
              "        [202, 201, 204, ..., 204, 205, 200],\n",
              "        ...,\n",
              "        [201, 205, 202, ..., 221, 216, 219],\n",
              "        [200, 205, 203, ..., 255, 253, 254],\n",
              "        [224, 224, 223, ..., 255, 253, 254]]], dtype=uint16)"
            ]
          },
          "metadata": {},
          "execution_count": 46
        }
      ]
    },
    {
      "cell_type": "code",
      "metadata": {
        "colab": {
          "base_uri": "https://localhost:8080/"
        },
        "id": "Tjw565MAEaIg",
        "outputId": "554d9b18-6c9f-4882-9ee5-f7ff0887d1b8"
      },
      "source": [
        ""
      ],
      "execution_count": null,
      "outputs": [
        {
          "output_type": "execute_result",
          "data": {
            "text/plain": [
              "array([[0, 0, 0, ..., 0, 0, 0],\n",
              "       [0, 0, 0, ..., 0, 0, 0],\n",
              "       [0, 0, 0, ..., 0, 0, 0],\n",
              "       ...,\n",
              "       [0, 0, 0, ..., 0, 0, 0],\n",
              "       [0, 0, 0, ..., 0, 0, 0],\n",
              "       [0, 0, 0, ..., 0, 0, 0]], dtype=uint16)"
            ]
          },
          "metadata": {},
          "execution_count": 60
        }
      ]
    },
    {
      "cell_type": "code",
      "metadata": {
        "id": "Pn1gHMkPEZ-g"
      },
      "source": [
        ""
      ],
      "execution_count": null,
      "outputs": []
    },
    {
      "cell_type": "code",
      "metadata": {
        "id": "OM_RIz33B7oB"
      },
      "source": [
        ""
      ],
      "execution_count": null,
      "outputs": []
    },
    {
      "cell_type": "code",
      "metadata": {
        "id": "VoSQh3oQxWPe"
      },
      "source": [
        "## iterate through directory\n",
        "for subdir, dirs, files in os.walk(rootdir):\n",
        "  print(subdir)"
      ],
      "execution_count": null,
      "outputs": []
    },
    {
      "cell_type": "code",
      "metadata": {
        "colab": {
          "base_uri": "https://localhost:8080/",
          "height": 35
        },
        "id": "GcrIxZChxoNp",
        "outputId": "bdecb691-9f8e-4e5a-bd4d-3cfa55bde1e1"
      },
      "source": [
        "'/content/drive/My\\ Drive/all_about_phd/phd_data/sample_data'"
      ],
      "execution_count": null,
      "outputs": [
        {
          "output_type": "execute_result",
          "data": {
            "application/vnd.google.colaboratory.intrinsic+json": {
              "type": "string"
            },
            "text/plain": [
              "'/content/drive/My\\\\ Drive/all_about_phd/phd_data/sample_data'"
            ]
          },
          "metadata": {},
          "execution_count": 61
        }
      ]
    },
    {
      "cell_type": "code",
      "metadata": {
        "colab": {
          "base_uri": "https://localhost:8080/"
        },
        "id": "T4s-I8kGyJSb",
        "outputId": "c2c527b2-7b77-4f35-d961-0eaf39fc1206"
      },
      "source": [
        "os.walk(root_dir)"
      ],
      "execution_count": null,
      "outputs": [
        {
          "output_type": "execute_result",
          "data": {
            "text/plain": [
              "<generator object walk at 0x7f06aedc4a50>"
            ]
          },
          "metadata": {},
          "execution_count": 63
        }
      ]
    },
    {
      "cell_type": "code",
      "metadata": {
        "colab": {
          "base_uri": "https://localhost:8080/"
        },
        "id": "ip6Uv2ys0X1W",
        "outputId": "6f2e28be-c270-4685-b1e0-e85f6fe3c3d1"
      },
      "source": [
        "os.walk(rootdir)"
      ],
      "execution_count": null,
      "outputs": [
        {
          "output_type": "execute_result",
          "data": {
            "text/plain": [
              "<generator object walk at 0x7f06aedc46d0>"
            ]
          },
          "metadata": {},
          "execution_count": 64
        }
      ]
    },
    {
      "cell_type": "code",
      "metadata": {
        "colab": {
          "base_uri": "https://localhost:8080/"
        },
        "id": "XQXaPzvV0Y5X",
        "outputId": "46f2da00-9ea4-4808-ae7b-cd6b80355462"
      },
      "source": [
        "!ls \"/content/drive/My\\ Drive/all_about_phd/phd_data/sample_data\""
      ],
      "execution_count": null,
      "outputs": [
        {
          "output_type": "stream",
          "name": "stdout",
          "text": [
            "ls: cannot access '/content/drive/My\\ Drive/all_about_phd/phd_data/sample_data': No such file or directory\n"
          ]
        }
      ]
    },
    {
      "cell_type": "code",
      "metadata": {
        "colab": {
          "base_uri": "https://localhost:8080/",
          "height": 35
        },
        "id": "XjHD5ZAC5Jtx",
        "outputId": "32b08118-e04e-4cfe-b084-3682fa9c5765"
      },
      "source": [
        "rootdir"
      ],
      "execution_count": null,
      "outputs": [
        {
          "output_type": "execute_result",
          "data": {
            "application/vnd.google.colaboratory.intrinsic+json": {
              "type": "string"
            },
            "text/plain": [
              "'/content/drive/My Drive/all_about_phd/phd_data/sample_data'"
            ]
          },
          "metadata": {},
          "execution_count": 94
        }
      ]
    },
    {
      "cell_type": "code",
      "metadata": {
        "colab": {
          "base_uri": "https://localhost:8080/"
        },
        "id": "SHYfJsPh6DWD",
        "outputId": "494fa57d-a1eb-4a88-87e3-7441afb51d80"
      },
      "source": [
        "# Listing all subdirectories in a directory\n",
        "path3 = rootdir\n",
        "for entry in os.listdir(path3):\n",
        "    if os.path.isdir(os.path.join(path3, entry)):\n",
        "        print(entry)"
      ],
      "execution_count": null,
      "outputs": [
        {
          "output_type": "stream",
          "name": "stdout",
          "text": [
            "corriander_sample_3_0005\n",
            "corriander_sample_3_0002\n",
            "corriander_sample_3_0010\n",
            "corriander_sample_2_0010\n",
            "corriander_sample01__emptyname_0001\n",
            "corriander_sample01__emptyname_2021-02-18_08-13-22\n",
            "corriander_sample_3_0006\n",
            "corriander_sample01_defect_emptyname_0001\n",
            "corriander_sample01__emptyname_2021-02-18_06-49-42\n",
            "corriander_sample_3_0001\n",
            "corriander_sample01__emptyname_2021-02-18_07-17-28\n",
            "corriander_sample01_0001_emptyname\n",
            "corriander_sample01__emptyname_2021-02-18_07-30-45\n",
            "corriander_sample_3_0003\n",
            "corriander_sample_3_0007\n",
            "corriander_sample01_emptyname_0002\n",
            "corriander_sample_2_0007\n",
            "corriander_sample_2_0001\n",
            "corriander_sample_3_0008\n",
            "corriander_sample_2_0006\n",
            "corriander_sample_3_0009\n",
            "corriander_sample_2_0009\n",
            "corriander_sample_2_0008\n"
          ]
        }
      ]
    },
    {
      "cell_type": "code",
      "metadata": {
        "colab": {
          "base_uri": "https://localhost:8080/"
        },
        "id": "7CRVkgjI6O9P",
        "outputId": "0120efd3-2ac1-4277-ae96-ce47e8a58278"
      },
      "source": [
        "!ls /content/drive/My\\ Drive/all_about_phd/phd_data/sample_data"
      ],
      "execution_count": null,
      "outputs": [
        {
          "output_type": "stream",
          "name": "stdout",
          "text": [
            "corriander_sample01_0001_emptyname\t\t    corriander_sample_2_0009\n",
            "corriander_sample01_defect_emptyname_0001\t    corriander_sample_2_0010\n",
            "corriander_sample01__emptyname_0001\t\t    corriander_sample_3_0001\n",
            "corriander_sample01_emptyname_0002\t\t    corriander_sample_3_0002\n",
            "corriander_sample01__emptyname_2021-02-18_06-49-42  corriander_sample_3_0003\n",
            "corriander_sample01__emptyname_2021-02-18_07-17-28  corriander_sample_3_0005\n",
            "corriander_sample01__emptyname_2021-02-18_07-30-45  corriander_sample_3_0006\n",
            "corriander_sample01__emptyname_2021-02-18_08-13-22  corriander_sample_3_0007\n",
            "corriander_sample_2_0001\t\t\t    corriander_sample_3_0008\n",
            "corriander_sample_2_0006\t\t\t    corriander_sample_3_0009\n",
            "corriander_sample_2_0007\t\t\t    corriander_sample_3_0010\n",
            "corriander_sample_2_0008\n"
          ]
        }
      ]
    },
    {
      "cell_type": "code",
      "metadata": {
        "id": "nRW07lUT7yOO"
      },
      "source": [
        ""
      ],
      "execution_count": null,
      "outputs": []
    }
  ]
}