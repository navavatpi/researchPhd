{
 "cells": [
  {
   "cell_type": "markdown",
   "metadata": {
    "id": "riTfccSRae30"
   },
   "source": [
    "# 5. Data Modeling: non-artificial neural network models; RFC"
   ]
  },
  {
   "cell_type": "markdown",
   "metadata": {},
   "source": [
    "LOCAL version for implement scikit-learn ML models"
   ]
  },
  {
   "cell_type": "markdown",
   "metadata": {
    "id": "nxqLVbvJamze"
   },
   "source": [
    "## Environment Setup"
   ]
  },
  {
   "cell_type": "code",
   "execution_count": 1,
   "metadata": {
    "colab": {
     "base_uri": "https://localhost:8080/"
    },
    "executionInfo": {
     "elapsed": 1619,
     "status": "ok",
     "timestamp": 1634381122542,
     "user": {
      "displayName": "Navavat Pipatsart",
      "photoUrl": "https://lh3.googleusercontent.com/a/default-user=s64",
      "userId": "17950084887953265054"
     },
     "user_tz": -420
    },
    "id": "VI8UC2kAvyAP",
    "outputId": "e7171d0e-153c-470b-e322-2b159f22490a"
   },
   "outputs": [
    {
     "name": "stdout",
     "output_type": "stream",
     "text": [
      "\n",
      "\n",
      "necessary libraries has successfully imported\n"
     ]
    }
   ],
   "source": [
    "# libraries import\n",
    "import os # miscellaneous operating system interfaces\n",
    "import numpy as np # Array library for linear algebra\n",
    "import matplotlib.pyplot as plt # visualization library\n",
    "from sklearn.svm import SVC # SVM classifier\n",
    "from sklearn.ensemble import RandomForestClassifier # RFC classifier\n",
    "from sklearn.neighbors import KNeighborsClassifier # KNN classifier\n",
    "from sklearn.metrics import classification_report # evaluators classification report\n",
    "import scikitplot as skplt # scikit-learn and matplotlib integrated visualization library\n",
    "import joblib # I/O library for scikit-learn\n",
    "\n",
    "# system configuration\n",
    "os.environ[\"TF_CPP_MIN_LOG_LEVEL\"]=\"0\" # disable warning messages\n",
    "os.environ['AUTOGRAPH_VERBOSITY'] = '0' # set it to 0\n",
    "random_seed = 20 # random seed\n",
    "\n",
    "print('\\n')\n",
    "print('necessary libraries has successfully imported')"
   ]
  },
  {
   "cell_type": "markdown",
   "metadata": {
    "id": "n-Hrt5epgDiW"
   },
   "source": [
    "## Data Loading"
   ]
  },
  {
   "cell_type": "code",
   "execution_count": 2,
   "metadata": {
    "executionInfo": {
     "elapsed": 7,
     "status": "ok",
     "timestamp": 1634379415870,
     "user": {
      "displayName": "Navavat Pipatsart",
      "photoUrl": "https://lh3.googleusercontent.com/a/default-user=s64",
      "userId": "17950084887953265054"
     },
     "user_tz": -420
    },
    "id": "dX9qHI4qO6kE"
   },
   "outputs": [],
   "source": [
    "# define path to files\n",
    "defaultdir = '/Users/pnastra_castcle/navavat.pi@castcle.com - Google Drive/My Drive/all_about_phd_research/'"
   ]
  },
  {
   "cell_type": "code",
   "execution_count": 3,
   "metadata": {
    "colab": {
     "base_uri": "https://localhost:8080/"
    },
    "executionInfo": {
     "elapsed": 56553,
     "status": "ok",
     "timestamp": 1634379472417,
     "user": {
      "displayName": "Navavat Pipatsart",
      "photoUrl": "https://lh3.googleusercontent.com/a/default-user=s64",
      "userId": "17950084887953265054"
     },
     "user_tz": -420
    },
    "id": "nRW07lUT7yOO",
    "outputId": "d4ece4f0-113f-4e0c-aacf-40ee3d037a49"
   },
   "outputs": [
    {
     "name": "stdout",
     "output_type": "stream",
     "text": [
      "loading processed data\n",
      "\n",
      "\n",
      "load data done\n",
      "\n",
      "\n"
     ]
    }
   ],
   "source": [
    "print('loading processed data')\n",
    "print('\\n')\n",
    "\n",
    "# load input data from drive\n",
    "X_train = np.load(defaultdir + '/processed_data/X_train_sk.npy')\n",
    "X_test = np.load(defaultdir + '/processed_data/X_test_sk.npy')\n",
    "y_train = np.load(defaultdir + '/processed_data/y_train_sk.npy')\n",
    "y_test = np.load(defaultdir + '/processed_data/y_test_sk.npy')\n",
    "\n",
    "\n",
    "print('load data done')\n",
    "print('\\n')"
   ]
  },
  {
   "cell_type": "markdown",
   "metadata": {
    "id": "kBOCu2mae51B"
   },
   "source": [
    "## SVM model"
   ]
  },
  {
   "cell_type": "code",
   "execution_count": 4,
   "metadata": {
    "colab": {
     "base_uri": "https://localhost:8080/"
    },
    "executionInfo": {
     "elapsed": 36,
     "status": "ok",
     "timestamp": 1634379472418,
     "user": {
      "displayName": "Navavat Pipatsart",
      "photoUrl": "https://lh3.googleusercontent.com/a/default-user=s64",
      "userId": "17950084887953265054"
     },
     "user_tz": -420
    },
    "id": "pxuIN5fRzgkr",
    "outputId": "ee33e313-76d1-4b2e-9a58-1f479545edcf"
   },
   "outputs": [
    {
     "name": "stdout",
     "output_type": "stream",
     "text": [
      "RFC modeling is initializing\n",
      "\n",
      "\n"
     ]
    }
   ],
   "source": [
    "# define model name\n",
    "modelName = 'RFC'\n",
    "\n",
    "print(modelName, 'modeling is initializing')\n",
    "print('\\n')"
   ]
  },
  {
   "cell_type": "markdown",
   "metadata": {
    "id": "ncZK65QNPgom"
   },
   "source": [
    "## Data Modeling"
   ]
  },
  {
   "cell_type": "code",
   "execution_count": 15,
   "metadata": {
    "executionInfo": {
     "elapsed": 20,
     "status": "ok",
     "timestamp": 1634379472419,
     "user": {
      "displayName": "Navavat Pipatsart",
      "photoUrl": "https://lh3.googleusercontent.com/a/default-user=s64",
      "userId": "17950084887953265054"
     },
     "user_tz": -420
    },
    "id": "dYf3czfeffq7"
   },
   "outputs": [],
   "source": [
    "# define function to create and training SVM model\n",
    "def rfcModeling(X_train, y_train,\n",
    "                n_estimators=512,\n",
    "                max_depth=None,\n",
    "                min_samples_leaf=1,\n",
    "                min_samples_split=2,\n",
    "                max_leaf_nodes=None, \n",
    "                bootstrap=True,  \n",
    "                n_jobs=1,\n",
    "                random_state=random_seed, \n",
    "                verbose=1,\n",
    "                class_weight='balanced'):\n",
    "  \n",
    "  rfc = RandomForestClassifier(n_estimators=n_estimators,\n",
    "                               max_depth=max_depth,\n",
    "                               min_samples_leaf=min_samples_leaf,\n",
    "                               min_samples_split=min_samples_split,\n",
    "                               max_leaf_nodes=max_leaf_nodes, \n",
    "                               bootstrap=bootstrap, \n",
    "                               n_jobs=n_jobs,\n",
    "                               random_state=random_state, \n",
    "                               verbose=verbose, \n",
    "                               class_weight=class_weight)\n",
    "  \n",
    "  print(modelName, 'model is successfully constructed')\n",
    "  print('training', modelName, 'model')\n",
    "\n",
    "  # perform training\n",
    "  rfcModel = rfc.fit(X= X_train, \n",
    "                     y= y_train)\n",
    "\n",
    "  print('training', modelName, 'model has done')\n",
    "\n",
    "  return rfcModel"
   ]
  },
  {
   "cell_type": "markdown",
   "metadata": {},
   "source": [
    "## Model Training"
   ]
  },
  {
   "cell_type": "code",
   "execution_count": 16,
   "metadata": {
    "colab": {
     "base_uri": "https://localhost:8080/"
    },
    "id": "CFcQT0DEg9ki",
    "outputId": "f6d182c0-19d0-4c59-9a00-f8dcf5e8cbbb"
   },
   "outputs": [
    {
     "name": "stdout",
     "output_type": "stream",
     "text": [
      "RFC model is successfully constructed\n",
      "training RFC model\n"
     ]
    },
    {
     "name": "stderr",
     "output_type": "stream",
     "text": [
      "[Parallel(n_jobs=-1)]: Using backend ThreadingBackend with 8 concurrent workers.\n",
      "[Parallel(n_jobs=-1)]: Done  34 tasks      | elapsed:   16.2s\n",
      "[Parallel(n_jobs=-1)]: Done 184 tasks      | elapsed:  1.3min\n",
      "[Parallel(n_jobs=-1)]: Done 434 tasks      | elapsed:  3.2min\n"
     ]
    },
    {
     "name": "stdout",
     "output_type": "stream",
     "text": [
      "training RFC model has done\n"
     ]
    },
    {
     "name": "stderr",
     "output_type": "stream",
     "text": [
      "[Parallel(n_jobs=-1)]: Done 512 out of 512 | elapsed:  3.6min finished\n"
     ]
    }
   ],
   "source": [
    "rfcModel = rfcModeling(X_train= X_train, y_train= y_train, n_jobs=-1)"
   ]
  },
  {
   "cell_type": "markdown",
   "metadata": {
    "id": "Bs5tGTk8xJ18"
   },
   "source": [
    "## Model Prediction"
   ]
  },
  {
   "cell_type": "code",
   "execution_count": 17,
   "metadata": {
    "id": "qL_E_urkZgbM"
   },
   "outputs": [
    {
     "name": "stdout",
     "output_type": "stream",
     "text": [
      "RFC model making prediction\n",
      "\n",
      "\n"
     ]
    },
    {
     "name": "stderr",
     "output_type": "stream",
     "text": [
      "[Parallel(n_jobs=8)]: Using backend ThreadingBackend with 8 concurrent workers.\n",
      "[Parallel(n_jobs=8)]: Done  34 tasks      | elapsed:    0.0s\n",
      "[Parallel(n_jobs=8)]: Done 184 tasks      | elapsed:    0.0s\n",
      "[Parallel(n_jobs=8)]: Done 434 tasks      | elapsed:    0.0s\n",
      "[Parallel(n_jobs=8)]: Done 512 out of 512 | elapsed:    0.0s finished\n"
     ]
    },
    {
     "name": "stdout",
     "output_type": "stream",
     "text": [
      "\n",
      "\n",
      "RFC model making prediction has done\n",
      "\n",
      "\n"
     ]
    },
    {
     "name": "stderr",
     "output_type": "stream",
     "text": [
      "[Parallel(n_jobs=8)]: Using backend ThreadingBackend with 8 concurrent workers.\n",
      "[Parallel(n_jobs=8)]: Done  34 tasks      | elapsed:    0.0s\n",
      "[Parallel(n_jobs=8)]: Done 184 tasks      | elapsed:    0.0s\n",
      "[Parallel(n_jobs=8)]: Done 434 tasks      | elapsed:    0.0s\n",
      "[Parallel(n_jobs=8)]: Done 512 out of 512 | elapsed:    0.0s finished\n"
     ]
    }
   ],
   "source": [
    "# making predictions\n",
    "print(modelName, 'model making prediction')\n",
    "print('\\n')\n",
    "\n",
    "y_pred = rfcModel.predict(X_test)\n",
    "y_probas = rfcModel.predict_proba(X_test)\n",
    "\n",
    "print('\\n')\n",
    "print(modelName, 'model making prediction has done')\n",
    "print('\\n')"
   ]
  },
  {
   "cell_type": "markdown",
   "metadata": {
    "id": "QMjdzbfAzCwp"
   },
   "source": [
    "# Model Evaluation"
   ]
  },
  {
   "cell_type": "code",
   "execution_count": 18,
   "metadata": {
    "id": "ogAZtVWI19_-"
   },
   "outputs": [
    {
     "name": "stdout",
     "output_type": "stream",
     "text": [
      "RFC model evaluation is now processing\n",
      "\n",
      "\n"
     ]
    }
   ],
   "source": [
    "print(modelName, 'model evaluation is now processing')\n",
    "print('\\n')"
   ]
  },
  {
   "cell_type": "markdown",
   "metadata": {
    "id": "2fPO8e-tWG4o"
   },
   "source": [
    "## Confusion matrix and AUC-ROC curve"
   ]
  },
  {
   "cell_type": "code",
   "execution_count": 19,
   "metadata": {
    "id": "Eyyo9x0tevO8"
   },
   "outputs": [],
   "source": [
    "# def plot confusion matrix function\n",
    "def plotConfusionMatrix(y_test=y_test, \n",
    "                        y_pred=y_pred, \n",
    "                        cmap=plt.cm.Reds, \n",
    "                        title='Confusion Matrix of {} model'.format(modelName)):\n",
    "\n",
    "  # set font sizes\n",
    "  SMALL_SIZE = 12\n",
    "  MEDIUM_SIZE = 15\n",
    "  BIGGER_SIZE = 20\n",
    "\n",
    "  skplt.metrics.plot_confusion_matrix(y_true=y_test, \n",
    "                                      y_pred=y_pred, \n",
    "                                      title=title, \n",
    "                                      normalize='true', \n",
    "                                      figsize=(9,9), \n",
    "                                      cmap=cmap, \n",
    "                                      title_fontsize= BIGGER_SIZE, \n",
    "                                      text_fontsize= BIGGER_SIZE\n",
    "                                      )\n",
    "\n",
    "  # save figure\n",
    "  plt.savefig(defaultdir + '/processed_data/' + title + '.png')"
   ]
  },
  {
   "cell_type": "code",
   "execution_count": 20,
   "metadata": {
    "id": "5G7hiTmPfagm"
   },
   "outputs": [
    {
     "name": "stdout",
     "output_type": "stream",
     "text": [
      "confusion matrix plot\n",
      "\n",
      "\n"
     ]
    },
    {
     "data": {
      "image/png": "[encoded data removed]",
      "text/plain": [
       "<Figure size 648x648 with 2 Axes>"
      ]
     },
     "metadata": {
      "needs_background": "light"
     },
     "output_type": "display_data"
    }
   ],
   "source": [
    "print('confusion matrix plot')\n",
    "print('\\n')\n",
    "\n",
    "# perform plot confusion matrix function\n",
    "title = 'Confusion Matrix of {} model'.format(modelName)\n",
    "plot = plotConfusionMatrix(y_test=y_test, y_pred=y_pred, cmap=plt.cm.GnBu, title=title)"
   ]
  },
  {
   "cell_type": "code",
   "execution_count": 21,
   "metadata": {
    "id": "eRnwzOPlipIj"
   },
   "outputs": [],
   "source": [
    "# def plot ROC curve function\n",
    "def plotROC(y_test=y_test, y_pred=y_pred, cmap=plt.cm.Reds, title='ROC curve of {} model'.format(modelName)):\n",
    "\n",
    "  # set font sizes\n",
    "  SMALL_SIZE = 12\n",
    "  MEDIUM_SIZE = 15\n",
    "  BIGGER_SIZE = 20\n",
    "\n",
    "  skplt.metrics.plot_roc(y_true=y_test, \n",
    "                         y_probas=y_probas, \n",
    "                         title=title, \n",
    "                         plot_micro=True, \n",
    "                         plot_macro=True, \n",
    "                         figsize=(12,6), \n",
    "                         cmap=cmap, \n",
    "                         title_fontsize= BIGGER_SIZE, \n",
    "                         text_fontsize= MEDIUM_SIZE\n",
    "                         )\n",
    "\n",
    "  # save figure\n",
    "  plt.savefig(defaultdir + '/processed_data/' + title + '.png')"
   ]
  },
  {
   "cell_type": "code",
   "execution_count": 22,
   "metadata": {
    "id": "Ts3c6Z1LjhzN"
   },
   "outputs": [
    {
     "name": "stdout",
     "output_type": "stream",
     "text": [
      "AUC-ROC curve plot\n",
      "\n",
      "\n"
     ]
    },
    {
     "data": {
      "image/png": "[encoded data removed]",
      "text/plain": [
       "<Figure size 864x432 with 1 Axes>"
      ]
     },
     "metadata": {
      "needs_background": "light"
     },
     "output_type": "display_data"
    }
   ],
   "source": [
    "print('AUC-ROC curve plot')\n",
    "print('\\n')\n",
    "\n",
    "# perform plot AUC-ROC curve function\n",
    "title = 'AUC-ROC curve of {} model'.format(modelName)\n",
    "plot = plotROC(y_test=y_test, y_pred=y_pred, cmap=plt.cm.GnBu, title=title)"
   ]
  },
  {
   "cell_type": "markdown",
   "metadata": {
    "id": "lW2pUrx7nisj"
   },
   "source": [
    "## Print Classification Report"
   ]
  },
  {
   "cell_type": "code",
   "execution_count": 23,
   "metadata": {
    "id": "dceTyX8xmY2m"
   },
   "outputs": [
    {
     "name": "stdout",
     "output_type": "stream",
     "text": [
      "classification report of RFC model\n",
      "\n",
      "\n",
      "              precision    recall  f1-score   support\n",
      "\n",
      "     class 0       1.00      0.33      0.50         3\n",
      "     class 1       0.00      0.00      0.00         1\n",
      "     class 2       0.67      1.00      0.80         2\n",
      "\n",
      "    accuracy                           0.50         6\n",
      "   macro avg       0.56      0.44      0.43         6\n",
      "weighted avg       0.72      0.50      0.52         6\n",
      "\n",
      "\n",
      "\n"
     ]
    }
   ],
   "source": [
    "# classification report\n",
    "num_classes = 3\n",
    "class_list = ['class '+ str(y_class) for y_class in range(num_classes)]\n",
    "\n",
    "print('classification report of {} model'.format(modelName))\n",
    "print('\\n')\n",
    "print(classification_report(y_test, \n",
    "                            y_pred, \n",
    "                            target_names= class_list))\n",
    "\n",
    "print('\\n')"
   ]
  },
  {
   "cell_type": "markdown",
   "metadata": {
    "id": "rDVHXh5FqW_L"
   },
   "source": [
    "## Saving model"
   ]
  },
  {
   "cell_type": "code",
   "execution_count": 24,
   "metadata": {},
   "outputs": [],
   "source": [
    "# define saving function\n",
    "def save_model (model, model_name):\n",
    "    \n",
    "    filename = defaultdir + '/processed_data/' + model_name + '.joblib'\n",
    "        \n",
    "    joblib.dump(model, filename)\n",
    "\n",
    "    print(\"Saved {} to drive\".format(model_name))"
   ]
  },
  {
   "cell_type": "code",
   "execution_count": 25,
   "metadata": {
    "id": "2iOez2xFqt6x"
   },
   "outputs": [
    {
     "name": "stdout",
     "output_type": "stream",
     "text": [
      "Saved rfcModel to drive\n"
     ]
    }
   ],
   "source": [
    "# perform saving\n",
    "save_model(model=rfcModel, model_name= modelName.lower() + 'Model')"
   ]
  },
  {
   "cell_type": "markdown",
   "metadata": {
    "id": "sFka7ubuvimJ"
   },
   "source": [
    "## Load the saved model"
   ]
  },
  {
   "cell_type": "code",
   "execution_count": 26,
   "metadata": {
    "id": "_gAU2tKPq7nY"
   },
   "outputs": [],
   "source": [
    "# define loading function\n",
    "def load_model (model_name):\n",
    "\n",
    "    filename = defaultdir + '/processed_data/' + model_name + '.joblib'\n",
    "    \n",
    "    loaded_model = joblib.load(filename)\n",
    "    \n",
    "    return loaded_model"
   ]
  },
  {
   "cell_type": "code",
   "execution_count": 27,
   "metadata": {
    "id": "otktQAMVs2Ku"
   },
   "outputs": [],
   "source": [
    "# perform loading\n",
    "rfcModel = load_model(model_name= modelName.lower() + 'Model')"
   ]
  },
  {
   "cell_type": "markdown",
   "metadata": {
    "id": "8LlLXm-CvmUV"
   },
   "source": [
    "## Perform testing loaded model"
   ]
  },
  {
   "cell_type": "code",
   "execution_count": 28,
   "metadata": {
    "id": "u9xXcVgcvGV6"
   },
   "outputs": [
    {
     "name": "stderr",
     "output_type": "stream",
     "text": [
      "[Parallel(n_jobs=8)]: Using backend ThreadingBackend with 8 concurrent workers.\n",
      "[Parallel(n_jobs=8)]: Done  34 tasks      | elapsed:    0.0s\n",
      "[Parallel(n_jobs=8)]: Done 184 tasks      | elapsed:    0.0s\n",
      "[Parallel(n_jobs=8)]: Done 434 tasks      | elapsed:    0.0s\n",
      "[Parallel(n_jobs=8)]: Done 512 out of 512 | elapsed:    0.0s finished\n"
     ]
    },
    {
     "data": {
      "text/plain": [
       "array([1, 0, 2, 1, 2, 2])"
      ]
     },
     "execution_count": 28,
     "metadata": {},
     "output_type": "execute_result"
    }
   ],
   "source": [
    "# making prediction of loaded model\n",
    "rfcModel.predict(X_test)"
   ]
  },
  {
   "cell_type": "code",
   "execution_count": 29,
   "metadata": {
    "id": "I5zFBxl3wMnv"
   },
   "outputs": [
    {
     "name": "stdout",
     "output_type": "stream",
     "text": [
      "\n",
      "\n",
      "RFC modeling process is completed\n"
     ]
    }
   ],
   "source": [
    "print('\\n')\n",
    "print(modelName, 'modeling process is completed')"
   ]
  },
  {
   "cell_type": "code",
   "execution_count": null,
   "metadata": {
    "id": "iyyRSQgG41iu"
   },
   "outputs": [],
   "source": []
  },
  {
   "cell_type": "markdown",
   "metadata": {
    "id": "iXOAQkOywI1Z"
   },
   "source": [
    "# Finish Data life cycle"
   ]
  }
 ],
 "metadata": {
  "accelerator": "GPU",
  "colab": {
   "authorship_tag": "ABX9TyMprgomm6hIgowyeoGcWlY7",
   "collapsed_sections": [],
   "name": "4_data_modeling_scikit_models.ipynb",
   "provenance": [
    {
     "file_id": "15_yVWV0w0sPisZ6YJeA5-PVThsePq_CT",
     "timestamp": 1634374252650
    }
   ]
  },
  "kernelspec": {
   "display_name": "Python 3 (ipykernel)",
   "language": "python",
   "name": "python3"
  },
  "language_info": {
   "codemirror_mode": {
    "name": "ipython",
    "version": 3
   },
   "file_extension": ".py",
   "mimetype": "text/x-python",
   "name": "python",
   "nbconvert_exporter": "python",
   "pygments_lexer": "ipython3",
   "version": "3.9.7"
  }
 },
 "nbformat": 4,
 "nbformat_minor": 4
}
