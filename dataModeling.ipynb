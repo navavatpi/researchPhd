{
  "nbformat": 4,
  "nbformat_minor": 0,
  "metadata": {
    "colab": {
      "name": "dataModeling.ipynb",
      "provenance": [],
      "collapsed_sections": [],
      "authorship_tag": "ABX9TyP2qleLkY+shKnxNC+znOLo",
      "include_colab_link": true
    },
    "kernelspec": {
      "name": "python3",
      "display_name": "Python 3"
    },
    "language_info": {
      "name": "python"
    },
    "accelerator": "TPU"
  },
  "cells": [
    {
      "cell_type": "markdown",
      "metadata": {
        "id": "view-in-github",
        "colab_type": "text"
      },
      "source": [
        "<a href=\"https://colab.research.google.com/github/navavatpi/researchPhd/blob/developModeling/dataModeling.ipynb\" target=\"_parent\"><img src=\"https://colab.research.google.com/assets/colab-badge.svg\" alt=\"Open In Colab\"/></a>"
      ]
    },
    {
      "cell_type": "code",
      "metadata": {
        "id": "naTWf2Rdsgb9"
      },
      "source": [
        "# # https://pypi.python.org/pypi/pydot\n",
        "# !apt-get -qq install -y graphviz && pip install pydot\n",
        "# import pydot"
      ],
      "execution_count": 1,
      "outputs": []
    },
    {
      "cell_type": "markdown",
      "metadata": {
        "id": "riTfccSRae30"
      },
      "source": [
        "# Template"
      ]
    },
    {
      "cell_type": "markdown",
      "metadata": {
        "id": "nxqLVbvJamze"
      },
      "source": [
        "## Environment Setup"
      ]
    },
    {
      "cell_type": "code",
      "metadata": {
        "colab": {
          "base_uri": "https://localhost:8080/"
        },
        "id": "lQME0BwnuXWU",
        "outputId": "e73191a0-88cb-4406-c15f-b28bf7f29a75"
      },
      "source": [
        "# Enabling and testing the TPU\n",
        "%tensorflow_version 2.x\n",
        "import tensorflow as tf\n",
        "print(\"Tensorflow version \" + tf.__version__)\n",
        "\n",
        "try:\n",
        "  tpu = tf.distribute.cluster_resolver.TPUClusterResolver()  # TPU detection\n",
        "  print('Running on TPU ', tpu.cluster_spec().as_dict()['worker'])\n",
        "except ValueError:\n",
        "  raise BaseException('ERROR: Not connected to a TPU runtime; please see the previous cell in this notebook for instructions!')\n",
        "\n",
        "tf.config.experimental_connect_to_cluster(tpu)\n",
        "tf.tpu.experimental.initialize_tpu_system(tpu)\n",
        "tpu_strategy = tf.distribute.experimental.TPUStrategy(tpu)"
      ],
      "execution_count": 2,
      "outputs": [
        {
          "output_type": "stream",
          "name": "stdout",
          "text": [
            "Tensorflow version 2.6.0\n",
            "Running on TPU  ['10.22.182.90:8470']\n",
            "INFO:tensorflow:Clearing out eager caches\n"
          ]
        },
        {
          "output_type": "stream",
          "name": "stderr",
          "text": [
            "INFO:tensorflow:Clearing out eager caches\n"
          ]
        },
        {
          "output_type": "stream",
          "name": "stdout",
          "text": [
            "INFO:tensorflow:Initializing the TPU system: grpc://10.22.182.90:8470\n"
          ]
        },
        {
          "output_type": "stream",
          "name": "stderr",
          "text": [
            "INFO:tensorflow:Initializing the TPU system: grpc://10.22.182.90:8470\n"
          ]
        },
        {
          "output_type": "stream",
          "name": "stdout",
          "text": [
            "INFO:tensorflow:Finished initializing TPU system.\n"
          ]
        },
        {
          "output_type": "stream",
          "name": "stderr",
          "text": [
            "INFO:tensorflow:Finished initializing TPU system.\n",
            "WARNING:absl:`tf.distribute.experimental.TPUStrategy` is deprecated, please use  the non experimental symbol `tf.distribute.TPUStrategy` instead.\n"
          ]
        },
        {
          "output_type": "stream",
          "name": "stdout",
          "text": [
            "INFO:tensorflow:Found TPU system:\n"
          ]
        },
        {
          "output_type": "stream",
          "name": "stderr",
          "text": [
            "INFO:tensorflow:Found TPU system:\n"
          ]
        },
        {
          "output_type": "stream",
          "name": "stdout",
          "text": [
            "INFO:tensorflow:*** Num TPU Cores: 8\n"
          ]
        },
        {
          "output_type": "stream",
          "name": "stderr",
          "text": [
            "INFO:tensorflow:*** Num TPU Cores: 8\n"
          ]
        },
        {
          "output_type": "stream",
          "name": "stdout",
          "text": [
            "INFO:tensorflow:*** Num TPU Workers: 1\n"
          ]
        },
        {
          "output_type": "stream",
          "name": "stderr",
          "text": [
            "INFO:tensorflow:*** Num TPU Workers: 1\n"
          ]
        },
        {
          "output_type": "stream",
          "name": "stdout",
          "text": [
            "INFO:tensorflow:*** Num TPU Cores Per Worker: 8\n"
          ]
        },
        {
          "output_type": "stream",
          "name": "stderr",
          "text": [
            "INFO:tensorflow:*** Num TPU Cores Per Worker: 8\n"
          ]
        },
        {
          "output_type": "stream",
          "name": "stdout",
          "text": [
            "INFO:tensorflow:*** Available Device: _DeviceAttributes(/job:localhost/replica:0/task:0/device:CPU:0, CPU, 0, 0)\n"
          ]
        },
        {
          "output_type": "stream",
          "name": "stderr",
          "text": [
            "INFO:tensorflow:*** Available Device: _DeviceAttributes(/job:localhost/replica:0/task:0/device:CPU:0, CPU, 0, 0)\n"
          ]
        },
        {
          "output_type": "stream",
          "name": "stdout",
          "text": [
            "INFO:tensorflow:*** Available Device: _DeviceAttributes(/job:worker/replica:0/task:0/device:CPU:0, CPU, 0, 0)\n"
          ]
        },
        {
          "output_type": "stream",
          "name": "stderr",
          "text": [
            "INFO:tensorflow:*** Available Device: _DeviceAttributes(/job:worker/replica:0/task:0/device:CPU:0, CPU, 0, 0)\n"
          ]
        },
        {
          "output_type": "stream",
          "name": "stdout",
          "text": [
            "INFO:tensorflow:*** Available Device: _DeviceAttributes(/job:worker/replica:0/task:0/device:TPU:0, TPU, 0, 0)\n"
          ]
        },
        {
          "output_type": "stream",
          "name": "stderr",
          "text": [
            "INFO:tensorflow:*** Available Device: _DeviceAttributes(/job:worker/replica:0/task:0/device:TPU:0, TPU, 0, 0)\n"
          ]
        },
        {
          "output_type": "stream",
          "name": "stdout",
          "text": [
            "INFO:tensorflow:*** Available Device: _DeviceAttributes(/job:worker/replica:0/task:0/device:TPU:1, TPU, 0, 0)\n"
          ]
        },
        {
          "output_type": "stream",
          "name": "stderr",
          "text": [
            "INFO:tensorflow:*** Available Device: _DeviceAttributes(/job:worker/replica:0/task:0/device:TPU:1, TPU, 0, 0)\n"
          ]
        },
        {
          "output_type": "stream",
          "name": "stdout",
          "text": [
            "INFO:tensorflow:*** Available Device: _DeviceAttributes(/job:worker/replica:0/task:0/device:TPU:2, TPU, 0, 0)\n"
          ]
        },
        {
          "output_type": "stream",
          "name": "stderr",
          "text": [
            "INFO:tensorflow:*** Available Device: _DeviceAttributes(/job:worker/replica:0/task:0/device:TPU:2, TPU, 0, 0)\n"
          ]
        },
        {
          "output_type": "stream",
          "name": "stdout",
          "text": [
            "INFO:tensorflow:*** Available Device: _DeviceAttributes(/job:worker/replica:0/task:0/device:TPU:3, TPU, 0, 0)\n"
          ]
        },
        {
          "output_type": "stream",
          "name": "stderr",
          "text": [
            "INFO:tensorflow:*** Available Device: _DeviceAttributes(/job:worker/replica:0/task:0/device:TPU:3, TPU, 0, 0)\n"
          ]
        },
        {
          "output_type": "stream",
          "name": "stdout",
          "text": [
            "INFO:tensorflow:*** Available Device: _DeviceAttributes(/job:worker/replica:0/task:0/device:TPU:4, TPU, 0, 0)\n"
          ]
        },
        {
          "output_type": "stream",
          "name": "stderr",
          "text": [
            "INFO:tensorflow:*** Available Device: _DeviceAttributes(/job:worker/replica:0/task:0/device:TPU:4, TPU, 0, 0)\n"
          ]
        },
        {
          "output_type": "stream",
          "name": "stdout",
          "text": [
            "INFO:tensorflow:*** Available Device: _DeviceAttributes(/job:worker/replica:0/task:0/device:TPU:5, TPU, 0, 0)\n"
          ]
        },
        {
          "output_type": "stream",
          "name": "stderr",
          "text": [
            "INFO:tensorflow:*** Available Device: _DeviceAttributes(/job:worker/replica:0/task:0/device:TPU:5, TPU, 0, 0)\n"
          ]
        },
        {
          "output_type": "stream",
          "name": "stdout",
          "text": [
            "INFO:tensorflow:*** Available Device: _DeviceAttributes(/job:worker/replica:0/task:0/device:TPU:6, TPU, 0, 0)\n"
          ]
        },
        {
          "output_type": "stream",
          "name": "stderr",
          "text": [
            "INFO:tensorflow:*** Available Device: _DeviceAttributes(/job:worker/replica:0/task:0/device:TPU:6, TPU, 0, 0)\n"
          ]
        },
        {
          "output_type": "stream",
          "name": "stdout",
          "text": [
            "INFO:tensorflow:*** Available Device: _DeviceAttributes(/job:worker/replica:0/task:0/device:TPU:7, TPU, 0, 0)\n"
          ]
        },
        {
          "output_type": "stream",
          "name": "stderr",
          "text": [
            "INFO:tensorflow:*** Available Device: _DeviceAttributes(/job:worker/replica:0/task:0/device:TPU:7, TPU, 0, 0)\n"
          ]
        },
        {
          "output_type": "stream",
          "name": "stdout",
          "text": [
            "INFO:tensorflow:*** Available Device: _DeviceAttributes(/job:worker/replica:0/task:0/device:TPU_SYSTEM:0, TPU_SYSTEM, 0, 0)\n"
          ]
        },
        {
          "output_type": "stream",
          "name": "stderr",
          "text": [
            "INFO:tensorflow:*** Available Device: _DeviceAttributes(/job:worker/replica:0/task:0/device:TPU_SYSTEM:0, TPU_SYSTEM, 0, 0)\n"
          ]
        },
        {
          "output_type": "stream",
          "name": "stdout",
          "text": [
            "INFO:tensorflow:*** Available Device: _DeviceAttributes(/job:worker/replica:0/task:0/device:XLA_CPU:0, XLA_CPU, 0, 0)\n"
          ]
        },
        {
          "output_type": "stream",
          "name": "stderr",
          "text": [
            "INFO:tensorflow:*** Available Device: _DeviceAttributes(/job:worker/replica:0/task:0/device:XLA_CPU:0, XLA_CPU, 0, 0)\n"
          ]
        }
      ]
    },
    {
      "cell_type": "code",
      "metadata": {
        "id": "VI8UC2kAvyAP"
      },
      "source": [
        "# libraries import\n",
        "import os\n",
        "import numpy as np\n",
        "from tensorflow import keras # back-end artificial neural network API\n",
        "from tensorflow.keras import layers\n",
        "from tensorflow.keras.optimizers import Adam # optimizer\n",
        "from tensorflow.keras.callbacks import ReduceLROnPlateau # Reduce learning rate when a metric has stopped improving\n",
        "\n",
        "# system configuration\n",
        "os.environ[\"TF_CPP_MIN_LOG_LEVEL\"]=\"0\" # disable warning messages\n",
        "os.environ['AUTOGRAPH_VERBOSITY'] = '0' # set it to 0\n",
        "\n",
        "random_seed = 20 # random seed"
      ],
      "execution_count": 12,
      "outputs": []
    },
    {
      "cell_type": "code",
      "metadata": {
        "colab": {
          "base_uri": "https://localhost:8080/"
        },
        "id": "r_2nnZRlujmA",
        "outputId": "83f8f550-b13b-4c9c-845c-1e7219a104a2"
      },
      "source": [
        "# connect to google drive to obtain dataset\n",
        "# !note: need to perform authorization by following below link\n",
        "from google.colab import drive\n",
        "drive.mount('/content/drive')"
      ],
      "execution_count": 4,
      "outputs": [
        {
          "output_type": "stream",
          "name": "stdout",
          "text": [
            "Drive already mounted at /content/drive; to attempt to forcibly remount, call drive.mount(\"/content/drive\", force_remount=True).\n"
          ]
        }
      ]
    },
    {
      "cell_type": "markdown",
      "metadata": {
        "id": "n-Hrt5epgDiW"
      },
      "source": [
        "## Data Loading"
      ]
    },
    {
      "cell_type": "code",
      "metadata": {
        "id": "dX9qHI4qO6kE"
      },
      "source": [
        "# define path to files\n",
        "defaultdir = '/content/drive/My Drive/all_about_phd/'"
      ],
      "execution_count": 5,
      "outputs": []
    },
    {
      "cell_type": "code",
      "metadata": {
        "id": "nRW07lUT7yOO"
      },
      "source": [
        "# save processed datas into drive\n",
        "X_train = np.load(defaultdir + '/processed_data/X_train.npy')\n",
        "X_test = np.load(defaultdir + '/processed_data/X_test.npy')\n",
        "y_train = np.load(defaultdir + '/processed_data/y_train.npy')\n",
        "y_test = np.load(defaultdir + '/processed_data/y_test.npy')"
      ],
      "execution_count": 6,
      "outputs": []
    },
    {
      "cell_type": "markdown",
      "metadata": {
        "id": "ncZK65QNPgom"
      },
      "source": [
        "## Data Modeling"
      ]
    },
    {
      "cell_type": "code",
      "metadata": {
        "id": "QnL8kRTGPpET"
      },
      "source": [
        "# define function to create CNN model\n",
        "def cnnModel(data_train, num_classes, layer=1, x_filter= 64, \n",
        "             kernel_size= (3,3), pool_size=(2,2), drop_size=0.5, \n",
        "             ):\n",
        "    \n",
        "    # input layer convert arrays => tensors\n",
        "    inputs = keras.Input(data_train.shape[1:]) # dimension of the input\n",
        "\n",
        "    x1 = layers.Conv2D(filters = x_filter, \n",
        "                       kernel_size = kernel_size, \n",
        "                       padding = 'Same', \n",
        "                       activation ='relu')(inputs)\n",
        "    x1 = layers.Conv2D(filters = x_filter, \n",
        "                       kernel_size = kernel_size, \n",
        "                       padding = 'Same', \n",
        "                       activation ='relu')(x1)\n",
        "    x1 = layers.MaxPool2D(pool_size= pool_size)(x1)\n",
        "    x1 = layers.Dropout(drop_size)(x1)\n",
        "    \n",
        "    dense_size = x_filter\n",
        "    \n",
        "    if layer > 1:\n",
        "        \n",
        "        x1 = layers.Conv2D(filters = 2*x_filter, \n",
        "                           kernel_size = kernel_size, \n",
        "                           padding = 'Same', \n",
        "                           activation ='relu')(x1)\n",
        "        x1 = layers.Conv2D(filters = 2*x_filter, \n",
        "                           kernel_size = kernel_size, \n",
        "                           padding = 'Same', \n",
        "                           activation ='relu')(x1)\n",
        "        x1 = layers.MaxPool2D(pool_size= pool_size)(x1)\n",
        "        x1 = layers.Dropout(drop_size)(x1)\n",
        "        \n",
        "        dense_size = 2*x_filter\n",
        "        \n",
        "        if layer > 2:\n",
        "\n",
        "            x1 = layers.Conv2D(filters = 4*x_filter, \n",
        "                               kernel_size = kernel_size, \n",
        "                               padding = 'Same', \n",
        "                               activation ='relu')(x1)\n",
        "            x1 = layers.Conv2D(filters = 4*x_filter, \n",
        "                               kernel_size = kernel_size, \n",
        "                               padding = 'Same', \n",
        "                               activation ='relu')(x1)\n",
        "            x1 = layers.MaxPool2D(pool_size= pool_size)(x1)\n",
        "            x1 = layers.Dropout(drop_size)(x1)\n",
        "            \n",
        "            dense_size = 4*x_filter\n",
        "            \n",
        "            if layer > 3:\n",
        "\n",
        "                x1 = layers.Conv2D(filters = 8*x_filter, \n",
        "                                   kernel_size = kernel_size, \n",
        "                                   padding = 'Same', \n",
        "                                   activation ='relu')(x1)\n",
        "                x1 = layers.Conv2D(filters = 8*x_filter, \n",
        "                                   kernel_size = kernel_size, \n",
        "                                   padding = 'Same', \n",
        "                                   activation ='relu')(x1)\n",
        "                x1 = layers.MaxPool2D(pool_size= pool_size)(x1)\n",
        "                x1 = layers.Dropout(drop_size)(x1)\n",
        "                \n",
        "                dense_size = 8*x_filter\n",
        "                \n",
        "                if layer > 4:\n",
        "\n",
        "                    x1 = layers.Conv2D(filters = 8*x_filter, \n",
        "                                       kernel_size = kernel_size, \n",
        "                                       padding = 'Same', \n",
        "                                       activation ='relu')(x1)\n",
        "                    x1 = layers.Conv2D(filters = 8*x_filter, \n",
        "                                       kernel_size = kernel_size, \n",
        "                                       padding = 'Same', \n",
        "                                       activation ='relu')(x1)\n",
        "                    x1 = layers.MaxPool2D(pool_size= pool_size)(x1)\n",
        "                    x1 = layers.Dropout(drop_size)(x1)\n",
        "                    \n",
        "                    dense_size = 8*x_filter\n",
        "\n",
        "    x2 = layers.Flatten()(x1)\n",
        "    x2 = layers.Dense(dense_size, activation = \"relu\")(x2)\n",
        "\n",
        "    outputs = layers.Dense(num_classes, activation= \"softmax\")(x2)\n",
        "\n",
        "    cnnModel = keras.Model(inputs=inputs, outputs=outputs, name=\"CNN_model\")\n",
        "\n",
        "    cnnModel.summary()\n",
        "    \n",
        "    return cnnModel"
      ],
      "execution_count": 14,
      "outputs": []
    },
    {
      "cell_type": "code",
      "metadata": {
        "colab": {
          "base_uri": "https://localhost:8080/"
        },
        "id": "Y3tZx-_KTx_T",
        "outputId": "93006261-21e4-4c6c-9ed5-654e27139b98"
      },
      "source": [
        "# perform CNN model define function\n",
        "cnnModel = cnnModel(X_train, layer=2, num_classes=3)"
      ],
      "execution_count": 15,
      "outputs": [
        {
          "output_type": "stream",
          "name": "stdout",
          "text": [
            "Model: \"CNN_model\"\n",
            "_________________________________________________________________\n",
            "Layer (type)                 Output Shape              Param #   \n",
            "=================================================================\n",
            "input_2 (InputLayer)         [(None, 330, 640, 224)]   0         \n",
            "_________________________________________________________________\n",
            "conv2d_4 (Conv2D)            (None, 330, 640, 64)      129088    \n",
            "_________________________________________________________________\n",
            "conv2d_5 (Conv2D)            (None, 330, 640, 64)      36928     \n",
            "_________________________________________________________________\n",
            "max_pooling2d_2 (MaxPooling2 (None, 165, 320, 64)      0         \n",
            "_________________________________________________________________\n",
            "dropout_2 (Dropout)          (None, 165, 320, 64)      0         \n",
            "_________________________________________________________________\n",
            "conv2d_6 (Conv2D)            (None, 165, 320, 128)     73856     \n",
            "_________________________________________________________________\n",
            "conv2d_7 (Conv2D)            (None, 165, 320, 128)     147584    \n",
            "_________________________________________________________________\n",
            "max_pooling2d_3 (MaxPooling2 (None, 82, 160, 128)      0         \n",
            "_________________________________________________________________\n",
            "dropout_3 (Dropout)          (None, 82, 160, 128)      0         \n",
            "_________________________________________________________________\n",
            "flatten_1 (Flatten)          (None, 1679360)           0         \n",
            "_________________________________________________________________\n",
            "dense_1 (Dense)              (None, 128)               214958208 \n",
            "_________________________________________________________________\n",
            "dense_2 (Dense)              (None, 3)                 387       \n",
            "=================================================================\n",
            "Total params: 215,346,051\n",
            "Trainable params: 215,346,051\n",
            "Non-trainable params: 0\n",
            "_________________________________________________________________\n"
          ]
        }
      ]
    },
    {
      "cell_type": "code",
      "metadata": {
        "id": "_ZNcjoQDUAgk"
      },
      "source": [
        ""
      ],
      "execution_count": null,
      "outputs": []
    }
  ]
}